{
 "cells": [
  {
   "cell_type": "code",
   "execution_count": 1,
   "metadata": {},
   "outputs": [],
   "source": [
    "from newton_meth import newton_method\n",
    "import numpy as np\n",
    "import matplotlib.pyplot as plt\n"
   ]
  },
  {
   "cell_type": "code",
   "execution_count": 2,
   "metadata": {},
   "outputs": [],
   "source": [
    "def orig(x):\n",
    "    return x**3 - 7*(x**2) + 17 * x - 15\n",
    "def derivative(x):\n",
    "    return 3* x**2 - 14 * x + 17 "
   ]
  },
  {
   "cell_type": "code",
   "execution_count": 3,
   "metadata": {},
   "outputs": [
    {
     "data": {
      "text/plain": [
       "array([[-5. -5.j , -4.9-5.j , -4.8-5.j , ...,  4.7-5.j ,  4.8-5.j ,\n",
       "         4.9-5.j ],\n",
       "       [-5. -4.9j, -4.9-4.9j, -4.8-4.9j, ...,  4.7-4.9j,  4.8-4.9j,\n",
       "         4.9-4.9j],\n",
       "       [-5. -4.8j, -4.9-4.8j, -4.8-4.8j, ...,  4.7-4.8j,  4.8-4.8j,\n",
       "         4.9-4.8j],\n",
       "       ...,\n",
       "       [-5. +4.7j, -4.9+4.7j, -4.8+4.7j, ...,  4.7+4.7j,  4.8+4.7j,\n",
       "         4.9+4.7j],\n",
       "       [-5. +4.8j, -4.9+4.8j, -4.8+4.8j, ...,  4.7+4.8j,  4.8+4.8j,\n",
       "         4.9+4.8j],\n",
       "       [-5. +4.9j, -4.9+4.9j, -4.8+4.9j, ...,  4.7+4.9j,  4.8+4.9j,\n",
       "         4.9+4.9j]])"
      ]
     },
     "execution_count": 3,
     "metadata": {},
     "output_type": "execute_result"
    }
   ],
   "source": [
    "real_part = np.outer(np.ones((100,)), np.arange(-5, 5, 0.1))\n",
    "\n",
    "imaginary_part = np.outer(1j*np.arange(-5, 5, 0.1), np.ones((100,)))\n",
    "\n",
    "  \n",
    "\n",
    "grid = real_part + imaginary_part\n",
    "grid"
   ]
  },
  {
   "cell_type": "code",
   "execution_count": null,
   "metadata": {},
   "outputs": [],
   "source": []
  },
  {
   "cell_type": "code",
   "execution_count": 4,
   "metadata": {},
   "outputs": [
    {
     "data": {
      "text/plain": [
       "array([[2.-1.j, 2.-1.j, 2.-1.j, ..., 2.-1.j, 2.-1.j, 2.-1.j],\n",
       "       [2.-1.j, 2.-1.j, 2.-1.j, ..., 2.-1.j, 2.-1.j, 2.-1.j],\n",
       "       [2.-1.j, 2.-1.j, 2.-1.j, ..., 2.-1.j, 2.-1.j, 2.-1.j],\n",
       "       ...,\n",
       "       [2.+1.j, 2.+1.j, 2.+1.j, ..., 2.+1.j, 2.+1.j, 2.+1.j],\n",
       "       [2.+1.j, 2.+1.j, 2.+1.j, ..., 2.+1.j, 2.+1.j, 2.+1.j],\n",
       "       [2.+1.j, 2.+1.j, 2.+1.j, ..., 2.+1.j, 2.+1.j, 2.+1.j]])"
      ]
     },
     "execution_count": 4,
     "metadata": {},
     "output_type": "execute_result"
    }
   ],
   "source": [
    "vectorise = np.vectorize(newton_method)\n",
    "result = vectorise(grid, orig, derivative)[0]\n",
    "result"
   ]
  },
  {
   "cell_type": "code",
   "execution_count": 5,
   "metadata": {},
   "outputs": [],
   "source": [
    "roots = np.unique(result)\n",
    "code = np.array([0, 1, 2])\n",
    "colors = dict(zip(roots, code))\n",
    "# code_roots = code[np.where(np.isclose(roots, 3-0.j))]\n"
   ]
  },
  {
   "cell_type": "code",
   "execution_count": 6,
   "metadata": {},
   "outputs": [],
   "source": [
    "import pandas as pd\n",
    "result = pd.DataFrame(result)\n",
    "result.replace(colors,inplace = True)\n",
    "result = np.array(result)"
   ]
  },
  {
   "cell_type": "code",
   "execution_count": 7,
   "metadata": {},
   "outputs": [
    {
     "data": {
      "text/plain": [
       "array([[0.+0.j, 0.+0.j, 0.+0.j, ..., 0.+0.j, 0.+0.j, 0.+0.j],\n",
       "       [0.+0.j, 0.+0.j, 0.+0.j, ..., 0.+0.j, 0.+0.j, 0.+0.j],\n",
       "       [0.+0.j, 0.+0.j, 0.+0.j, ..., 0.+0.j, 0.+0.j, 0.+0.j],\n",
       "       ...,\n",
       "       [1.+0.j, 1.+0.j, 1.+0.j, ..., 1.+0.j, 1.+0.j, 1.+0.j],\n",
       "       [1.+0.j, 1.+0.j, 1.+0.j, ..., 1.+0.j, 1.+0.j, 1.+0.j],\n",
       "       [1.+0.j, 1.+0.j, 1.+0.j, ..., 1.+0.j, 1.+0.j, 1.+0.j]])"
      ]
     },
     "execution_count": 7,
     "metadata": {},
     "output_type": "execute_result"
    }
   ],
   "source": [
    "result"
   ]
  },
  {
   "cell_type": "code",
   "execution_count": 8,
   "metadata": {},
   "outputs": [],
   "source": [
    "def orig1(x):\n",
    "    return x**3 - 7*(x**2) + 17 * x - 15\n",
    "def derivative1(x):\n",
    "    return 3* x**2 - 14 * x + 17 "
   ]
  },
  {
   "cell_type": "code",
   "execution_count": 10,
   "metadata": {},
   "outputs": [
    {
     "data": {
      "text/plain": [
       "[(-4.8-1.6j),\n",
       " (-2.398349685643377-1.073008881674963j),\n",
       " (-0.7821674276693087-0.7263641680936779j),\n",
       " (0.321987457081232-0.5044047352931754j),\n",
       " (1.10806445300728-0.3761099586497887j),\n",
       " (1.7339943249107472-0.34223531335617313j),\n",
       " (2.3940070739807537-0.5255907273816052j),\n",
       " (-0.19264518914180506+1.354326565072139j),\n",
       " (0.7116706146514952+0.9502301857416304j),\n",
       " (1.3562605163405754+0.7257630141486414j),\n",
       " (1.8492126597627159+0.6833265688566992j),\n",
       " (2.156031588699064+0.939418902204383j),\n",
       " (1.9674572730386473+0.9787942166657772j),\n",
       " (2.0009938786463577+0.9986334862577991j),\n",
       " (1.999997716632586+1.0000022431081423j),\n",
       " (1.9999999999896665+1.0000000000049396j)]"
      ]
     },
     "execution_count": 10,
     "metadata": {},
     "output_type": "execute_result"
    }
   ],
   "source": [
    "x0 = -4.8-1.6j\n",
    "eps = 1e-8\n",
    "x2 = x0 + 1\n",
    "f = orig\n",
    "derivative\n",
    "count = 0\n",
    "way = []\n",
    "\n",
    "while (abs(x0 - x2) > eps):\n",
    "    way.append(x0)\n",
    "    x1 = x0 - f(x0) / derivative(x0)\n",
    "    x2 = x0\n",
    "    x0 = x1\n",
    "    count += 1\n",
    "    \n",
    "\n",
    "\n",
    "way"
   ]
  },
  {
   "cell_type": "code",
   "execution_count": null,
   "metadata": {},
   "outputs": [
    {
     "data": {
      "text/plain": [
       "((2+1j), 16)"
      ]
     },
     "execution_count": 24,
     "metadata": {},
     "output_type": "execute_result"
    }
   ],
   "source": [
    "newton_method(x0=-4.8-1.6j, f = orig1, derivative=derivative1)"
   ]
  },
  {
   "cell_type": "code",
   "execution_count": 13,
   "metadata": {},
   "outputs": [
    {
     "data": {
      "text/plain": [
       "Text(0, 0.5, 'image')"
      ]
     },
     "execution_count": 13,
     "metadata": {},
     "output_type": "execute_result"
    },
    {
     "data": {
      "image/png": "[encoded data removed]",
      "text/plain": [
       "<Figure size 640x480 with 1 Axes>"
      ]
     },
     "metadata": {},
     "output_type": "display_data"
    }
   ],
   "source": [
    "plt.scatter(grid.real, grid.imag, c = result)\n",
    "plt.title(\"x^3 - 7 * (x^2) + 17 * x - 15\")\n",
    "plt.scatter((-4.8-1.6j).real, (-4.8-1.6j).imag)\n",
    "for i in way:\n",
    "    plt.scatter(i.real, i.imag, color = \"red\")\n",
    "    \n",
    "plt.xlabel(\"real\")\n",
    "plt.ylabel(\"image\")\n"
   ]
  },
  {
   "cell_type": "code",
   "execution_count": 14,
   "metadata": {},
   "outputs": [
    {
     "data": {
      "text/plain": [
       "[(-4.8-1.6j),\n",
       " (-2.398349685643377-1.073008881674963j),\n",
       " (-0.7821674276693087-0.7263641680936779j),\n",
       " (0.321987457081232-0.5044047352931754j),\n",
       " (1.10806445300728-0.3761099586497887j),\n",
       " (1.7339943249107472-0.34223531335617313j),\n",
       " (2.3940070739807537-0.5255907273816052j),\n",
       " (-0.19264518914180506+1.354326565072139j),\n",
       " (0.7116706146514952+0.9502301857416304j),\n",
       " (1.3562605163405754+0.7257630141486414j),\n",
       " (1.8492126597627159+0.6833265688566992j),\n",
       " (2.156031588699064+0.939418902204383j),\n",
       " (1.9674572730386473+0.9787942166657772j),\n",
       " (2.0009938786463577+0.9986334862577991j),\n",
       " (1.999997716632586+1.0000022431081423j),\n",
       " (1.9999999999896665+1.0000000000049396j)]"
      ]
     },
     "execution_count": 14,
     "metadata": {},
     "output_type": "execute_result"
    }
   ],
   "source": [
    "way"
   ]
  },
  {
   "cell_type": "code",
   "execution_count": null,
   "metadata": {},
   "outputs": [],
   "source": []
  }
 ],
 "metadata": {
  "kernelspec": {
   "display_name": "Python 3",
   "language": "python",
   "name": "python3"
  },
  "language_info": {
   "codemirror_mode": {
    "name": "ipython",
    "version": 3
   },
   "file_extension": ".py",
   "mimetype": "text/x-python",
   "name": "python",
   "nbconvert_exporter": "python",
   "pygments_lexer": "ipython3",
   "version": "3.10.12"
  },
  "orig_nbformat": 4
 },
 "nbformat": 4,
 "nbformat_minor": 2
}
