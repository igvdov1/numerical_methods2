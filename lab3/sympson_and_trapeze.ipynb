{
 "cells": [
  {
   "cell_type": "code",
   "execution_count": 1,
   "metadata": {},
   "outputs": [],
   "source": [
    "import numpy as np\n",
    "from trapeze import trapeze_method\n",
    "from derivative import derivative\n",
    "from sympson import sympsonMethod\n",
    "from sympson import sympson_method\n",
    "import mpmath \n"
   ]
  },
  {
   "cell_type": "code",
   "execution_count": 2,
   "metadata": {},
   "outputs": [],
   "source": [
    "def integral_func(x:float, m:float, t: float):\n",
    "    return np.cos(m*t - x * np.sin(t))\n",
    "\n",
    "def Bessel(x: float, m: int, method, low_limit, high_limit, dx = 0.1):\n",
    "    return  method(integral_func,x,m, low_limit, high_limit, dx) / np.pi"
   ]
  },
  {
   "cell_type": "code",
   "execution_count": 3,
   "metadata": {},
   "outputs": [
    {
     "ename": "KeyboardInterrupt",
     "evalue": "",
     "output_type": "error",
     "traceback": [
      "\u001b[0;31m---------------------------------------------------------------------------\u001b[0m",
      "\u001b[0;31mKeyboardInterrupt\u001b[0m                         Traceback (most recent call last)",
      "\u001b[1;32m/home/igvdov/vscode/numerical_methods2/lab3/sympson_and_trapeze.ipynb Cell 3\u001b[0m line \u001b[0;36m4\n\u001b[1;32m      <a href='vscode-notebook-cell:/home/igvdov/vscode/numerical_methods2/lab3/sympson_and_trapeze.ipynb#W2sZmlsZQ%3D%3D?line=1'>2</a>\u001b[0m grid \u001b[39m=\u001b[39m np\u001b[39m.\u001b[39marange(\u001b[39m0\u001b[39m, np\u001b[39m.\u001b[39mpi, \u001b[39m0.00000001\u001b[39m)\n\u001b[1;32m      <a href='vscode-notebook-cell:/home/igvdov/vscode/numerical_methods2/lab3/sympson_and_trapeze.ipynb#W2sZmlsZQ%3D%3D?line=2'>3</a>\u001b[0m h \u001b[39m=\u001b[39m \u001b[39m0.00001\u001b[39m\n\u001b[0;32m----> <a href='vscode-notebook-cell:/home/igvdov/vscode/numerical_methods2/lab3/sympson_and_trapeze.ipynb#W2sZmlsZQ%3D%3D?line=3'>4</a>\u001b[0m trapeze_method(integral_func, \u001b[39m1\u001b[39m, \u001b[39m1\u001b[39m, grid) \u001b[39m/\u001b[39m np\u001b[39m.\u001b[39mpi, jv(\u001b[39m1\u001b[39m, \u001b[39m1\u001b[39m), (trapeze_method(integral_func, \u001b[39m1\u001b[39;49m \u001b[39m+\u001b[39;49m h, \u001b[39m0\u001b[39;49m, grid) \u001b[39m/\u001b[39m np\u001b[39m.\u001b[39mpi \u001b[39m-\u001b[39m trapeze_method(integral_func, \u001b[39m1\u001b[39m\u001b[39m-\u001b[39mh, \u001b[39m0\u001b[39m, grid) \u001b[39m/\u001b[39m np\u001b[39m.\u001b[39mpi)\u001b[39m/\u001b[39m(\u001b[39m2\u001b[39m\u001b[39m*\u001b[39mh)\n",
      "File \u001b[0;32m~/vscode/numerical_methods2/lab3/trapeze.py:9\u001b[0m, in \u001b[0;36mtrapeze_method\u001b[0;34m(f, x, m, grid)\u001b[0m\n\u001b[1;32m      7\u001b[0m \u001b[39mdef\u001b[39;00m \u001b[39mtrapeze_method\u001b[39m(f, x, m, grid):\n\u001b[0;32m----> 9\u001b[0m     \u001b[39mreturn\u001b[39;00m np\u001b[39m.\u001b[39msum(f(x,m, grid[:\u001b[39m-\u001b[39m\u001b[39m1\u001b[39m]) \u001b[39m+\u001b[39m f(x,m,grid[\u001b[39m1\u001b[39;49m:]))\u001b[39m*\u001b[39m (grid[\u001b[39m1\u001b[39m]\u001b[39m+\u001b[39mgrid[\u001b[39m0\u001b[39m])\u001b[39m/\u001b[39m\u001b[39m2\u001b[39m\n",
      "\u001b[1;32m/home/igvdov/vscode/numerical_methods2/lab3/sympson_and_trapeze.ipynb Cell 3\u001b[0m line \u001b[0;36m2\n\u001b[1;32m      <a href='vscode-notebook-cell:/home/igvdov/vscode/numerical_methods2/lab3/sympson_and_trapeze.ipynb#W2sZmlsZQ%3D%3D?line=0'>1</a>\u001b[0m \u001b[39mdef\u001b[39;00m \u001b[39mintegral_func\u001b[39m(x:\u001b[39mfloat\u001b[39m, m:\u001b[39mfloat\u001b[39m, t: \u001b[39mfloat\u001b[39m):\n\u001b[0;32m----> <a href='vscode-notebook-cell:/home/igvdov/vscode/numerical_methods2/lab3/sympson_and_trapeze.ipynb#W2sZmlsZQ%3D%3D?line=1'>2</a>\u001b[0m     \u001b[39mreturn\u001b[39;00m np\u001b[39m.\u001b[39mcos(m\u001b[39m*\u001b[39mt \u001b[39m-\u001b[39m x \u001b[39m*\u001b[39m np\u001b[39m.\u001b[39;49msin(t))\n",
      "\u001b[0;31mKeyboardInterrupt\u001b[0m: "
     ]
    }
   ],
   "source": [
    "from scipy.special import jv\n",
    "grid = np.arange(0, np.pi, 0.00000001)\n",
    "h = 0.00001\n",
    "trapeze_method(integral_func, 1, 1, grid) / np.pi, jv(1, 1), (trapeze_method(integral_func, 1 + h, 0, grid) / np.pi - trapeze_method(integral_func, 1-h, 0, grid) / np.pi)/(2*h)"
   ]
  },
  {
   "cell_type": "code",
   "execution_count": null,
   "metadata": {},
   "outputs": [],
   "source": [
    "def Bessel_new(x: float, m: int, method, low_limit, high_limit, dx = 0.1):\n",
    "    return 1/np.pi * method(low_limit, high_limit, dx, integral_func,x, m)"
   ]
  },
  {
   "cell_type": "code",
   "execution_count": null,
   "metadata": {},
   "outputs": [],
   "source": [
    "from scipy.special import jv"
   ]
  },
  {
   "cell_type": "code",
   "execution_count": null,
   "metadata": {},
   "outputs": [
    {
     "data": {
      "text/plain": [
       "(0.44005143040879885, 0.44005058574493355)"
      ]
     },
     "execution_count": 12,
     "metadata": {},
     "output_type": "execute_result"
    }
   ],
   "source": [
    "trapeze_method(integral_func, 1, 1, 0, np.pi, 0.00001)/np.pi, jv(1, 1)"
   ]
  },
  {
   "cell_type": "code",
   "execution_count": null,
   "metadata": {},
   "outputs": [
    {
     "data": {
      "text/plain": [
       "0.4970949471281391"
      ]
     },
     "execution_count": 4,
     "metadata": {},
     "output_type": "execute_result"
    }
   ],
   "source": [
    "Bessel(2.5, 1, trapeze_method, 0, np.pi, 0.00001)"
   ]
  },
  {
   "cell_type": "code",
   "execution_count": null,
   "metadata": {},
   "outputs": [
    {
     "data": {
      "text/plain": [
       "0.4970949471281389"
      ]
     },
     "execution_count": 5,
     "metadata": {},
     "output_type": "execute_result"
    }
   ],
   "source": [
    "Bessel(2.5, 1, sympson_method, 0, np.pi, 0.00001)"
   ]
  },
  {
   "cell_type": "code",
   "execution_count": null,
   "metadata": {},
   "outputs": [
    {
     "data": {
      "text/plain": [
       "2.236067977499789805"
      ]
     },
     "execution_count": 6,
     "metadata": {},
     "output_type": "execute_result"
    }
   ],
   "source": [
    "def root(x):\n",
    "    return np.longdouble(np.power(x, 1/2))\n",
    "root(5)"
   ]
  },
  {
   "cell_type": "code",
   "execution_count": null,
   "metadata": {},
   "outputs": [
    {
     "ename": "TypeError",
     "evalue": "unsupported operand type(s) for -: 'float' and 'function'",
     "output_type": "error",
     "traceback": [
      "\u001b[0;31m---------------------------------------------------------------------------\u001b[0m",
      "\u001b[0;31mTypeError\u001b[0m                                 Traceback (most recent call last)",
      "\u001b[1;32m/home/igvdov/vscode/numerical_methods2/lab3/sympson_and_trapeze.ipynb Cell 7\u001b[0m line \u001b[0;36m3\n\u001b[1;32m      <a href='vscode-notebook-cell:/home/igvdov/vscode/numerical_methods2/lab3/sympson_and_trapeze.ipynb#W6sZmlsZQ%3D%3D?line=0'>1</a>\u001b[0m dx \u001b[39m=\u001b[39m \u001b[39m0.0000001\u001b[39m\n\u001b[0;32m----> <a href='vscode-notebook-cell:/home/igvdov/vscode/numerical_methods2/lab3/sympson_and_trapeze.ipynb#W6sZmlsZQ%3D%3D?line=2'>3</a>\u001b[0m Bessel(\u001b[39m2.5\u001b[39;49m, \u001b[39m1\u001b[39;49m, sympsonMethod, \u001b[39m0\u001b[39;49m, np\u001b[39m.\u001b[39;49mpi, dx)\n",
      "\u001b[1;32m/home/igvdov/vscode/numerical_methods2/lab3/sympson_and_trapeze.ipynb Cell 7\u001b[0m line \u001b[0;36m5\n\u001b[1;32m      <a href='vscode-notebook-cell:/home/igvdov/vscode/numerical_methods2/lab3/sympson_and_trapeze.ipynb#W6sZmlsZQ%3D%3D?line=3'>4</a>\u001b[0m \u001b[39mdef\u001b[39;00m \u001b[39mBessel\u001b[39m(x: \u001b[39mfloat\u001b[39m, m: \u001b[39mint\u001b[39m, method, low_limit, high_limit, dx \u001b[39m=\u001b[39m \u001b[39m0.1\u001b[39m):\n\u001b[0;32m----> <a href='vscode-notebook-cell:/home/igvdov/vscode/numerical_methods2/lab3/sympson_and_trapeze.ipynb#W6sZmlsZQ%3D%3D?line=4'>5</a>\u001b[0m     \u001b[39mreturn\u001b[39;00m  method(integral_func,x,m, low_limit, high_limit, dx) \u001b[39m/\u001b[39m np\u001b[39m.\u001b[39mpi\n",
      "File \u001b[0;32m~/vscode/numerical_methods2/lab3/sympson.py:13\u001b[0m, in \u001b[0;36msympsonMethod\u001b[0;34m(x1, x2, eps, f, x, m)\u001b[0m\n\u001b[1;32m     11\u001b[0m \u001b[39mdef\u001b[39;00m \u001b[39msympsonMethod\u001b[39m(x1, x2, eps, f, x, m):\n\u001b[1;32m     12\u001b[0m     \u001b[39m# print('sympsonMethod')\u001b[39;00m\n\u001b[0;32m---> 13\u001b[0m     \u001b[39mlen\u001b[39m \u001b[39m=\u001b[39m x2 \u001b[39m-\u001b[39;49m x1\n\u001b[1;32m     14\u001b[0m     scet \u001b[39m=\u001b[39m \u001b[39m2\u001b[39m\n\u001b[1;32m     15\u001b[0m     sum1 \u001b[39m=\u001b[39m \u001b[39m100000\u001b[39m\n",
      "\u001b[0;31mTypeError\u001b[0m: unsupported operand type(s) for -: 'float' and 'function'"
     ]
    }
   ],
   "source": [
    "dx = 0.0000001\n",
    "\n",
    "Bessel(2.5, 1, sympsonMethod, 0, np.pi, dx)"
   ]
  },
  {
   "cell_type": "code",
   "execution_count": null,
   "metadata": {},
   "outputs": [
    {
     "data": {
      "text/plain": [
       "-0.4970940808285418"
      ]
     },
     "execution_count": 8,
     "metadata": {},
     "output_type": "execute_result"
    }
   ],
   "source": [
    "\n",
    "(Bessel(2.5 + dx, 0, trapeze_method, 0, np.pi, dx) - Bessel(2.5, 0, trapeze_method, 0, np.pi, dx)) / dx"
   ]
  },
  {
   "cell_type": "code",
   "execution_count": null,
   "metadata": {},
   "outputs": [
    {
     "data": {
      "text/html": [
       "<style>\n",
       "        .bk-notebook-logo {\n",
       "            display: block;\n",
       "            width: 20px;\n",
       "            height: 20px;\n",
       "            background-image: url(data:image/png;base64,iVBORw0KGgoAAAANSUhEUgAAABQAAAAUCAYAAACNiR0NAAAABHNCSVQICAgIfAhkiAAAAAlwSFlzAAALEgAACxIB0t1+/AAAABx0RVh0U29mdHdhcmUAQWRvYmUgRmlyZXdvcmtzIENTNui8sowAAAOkSURBVDiNjZRtaJVlGMd/1/08zzln5zjP1LWcU9N0NkN8m2CYjpgQYQXqSs0I84OLIC0hkEKoPtiH3gmKoiJDU7QpLgoLjLIQCpEsNJ1vqUOdO7ppbuec5+V+rj4ctwzd8IIbbi6u+8f1539dt3A78eXC7QizUF7gyV1fD1Yqg4JWz84yffhm0qkFqBogB9rM8tZdtwVsPUhWhGcFJngGeWrPzHm5oaMmkfEg1usvLFyc8jLRqDOMru7AyC8saQr7GG7f5fvDeH7Ej8CM66nIF+8yngt6HWaKh7k49Soy9nXurCi1o3qUbS3zWfrYeQDTB/Qj6kX6Ybhw4B+bOYoLKCC9H3Nu/leUTZ1JdRWkkn2ldcCamzrcf47KKXdAJllSlxAOkRgyHsGC/zRday5Qld9DyoM4/q/rUoy/CXh3jzOu3bHUVZeU+DEn8FInkPBFlu3+nW3Nw0mk6vCDiWg8CeJaxEwuHS3+z5RgY+YBR6V1Z1nxSOfoaPa4LASWxxdNp+VWTk7+4vzaou8v8PN+xo+KY2xsw6une2frhw05CTYOmQvsEhjhWjn0bmXPjpE1+kplmmkP3suftwTubK9Vq22qKmrBhpY4jvd5afdRA3wGjFAgcnTK2s4hY0/GPNIb0nErGMCRxWOOX64Z8RAC4oCXdklmEvcL8o0BfkNK4lUg9HTl+oPlQxdNo3Mg4Nv175e/1LDGzZen30MEjRUtmXSfiTVu1kK8W4txyV6BMKlbgk3lMwYCiusNy9fVfvvwMxv8Ynl6vxoByANLTWplvuj/nF9m2+PDtt1eiHPBr1oIfhCChQMBw6Aw0UulqTKZdfVvfG7VcfIqLG9bcldL/+pdWTLxLUy8Qq38heUIjh4XlzZxzQm19lLFlr8vdQ97rjZVOLf8nclzckbcD4wxXMidpX30sFd37Fv/GtwwhzhxGVAprjbg0gCAEeIgwCZyTV2Z1REEW8O4py0wsjeloKoMr6iCY6dP92H6Vw/oTyICIthibxjm/DfN9lVz8IqtqKYLUXfoKVMVQVVJOElGjrnnUt9T9wbgp8AyYKaGlqingHZU/uG2NTZSVqwHQTWkx9hxjkpWDaCg6Ckj5qebgBVbT3V3NNXMSiWSDdGV3hrtzla7J+duwPOToIg42ChPQOQjspnSlp1V+Gjdged7+8UN5CRAV7a5EdFNwCjEaBR27b3W890TE7g24NAP/mMDXRWrGoFPQI9ls/MWO2dWFAar/xcOIImbbpA3zgAAAABJRU5ErkJggg==);\n",
       "        }\n",
       "    </style>\n",
       "    <div>\n",
       "        <a href=\"https://bokeh.org\" target=\"_blank\" class=\"bk-notebook-logo\"></a>\n",
       "        <span id=\"f07d0f17-850b-48e3-84a8-8351b9646b76\">Loading BokehJS ...</span>\n",
       "    </div>\n"
      ]
     },
     "metadata": {},
     "output_type": "display_data"
    },
    {
     "data": {
      "application/javascript": "(function(root) {\n  function now() {\n    return new Date();\n  }\n\n  const force = true;\n\n  if (typeof root._bokeh_onload_callbacks === \"undefined\" || force === true) {\n    root._bokeh_onload_callbacks = [];\n    root._bokeh_is_loading = undefined;\n  }\n\nconst JS_MIME_TYPE = 'application/javascript';\n  const HTML_MIME_TYPE = 'text/html';\n  const EXEC_MIME_TYPE = 'application/vnd.bokehjs_exec.v0+json';\n  const CLASS_NAME = 'output_bokeh rendered_html';\n\n  /**\n   * Render data to the DOM node\n   */\n  function render(props, node) {\n    const script = document.createElement(\"script\");\n    node.appendChild(script);\n  }\n\n  /**\n   * Handle when an output is cleared or removed\n   */\n  function handleClearOutput(event, handle) {\n    const cell = handle.cell;\n\n    const id = cell.output_area._bokeh_element_id;\n    const server_id = cell.output_area._bokeh_server_id;\n    // Clean up Bokeh references\n    if (id != null && id in Bokeh.index) {\n      Bokeh.index[id].model.document.clear();\n      delete Bokeh.index[id];\n    }\n\n    if (server_id !== undefined) {\n      // Clean up Bokeh references\n      const cmd_clean = \"from bokeh.io.state import curstate; print(curstate().uuid_to_server['\" + server_id + \"'].get_sessions()[0].document.roots[0]._id)\";\n      cell.notebook.kernel.execute(cmd_clean, {\n        iopub: {\n          output: function(msg) {\n            const id = msg.content.text.trim();\n            if (id in Bokeh.index) {\n              Bokeh.index[id].model.document.clear();\n              delete Bokeh.index[id];\n            }\n          }\n        }\n      });\n      // Destroy server and session\n      const cmd_destroy = \"import bokeh.io.notebook as ion; ion.destroy_server('\" + server_id + \"')\";\n      cell.notebook.kernel.execute(cmd_destroy);\n    }\n  }\n\n  /**\n   * Handle when a new output is added\n   */\n  function handleAddOutput(event, handle) {\n    const output_area = handle.output_area;\n    const output = handle.output;\n\n    // limit handleAddOutput to display_data with EXEC_MIME_TYPE content only\n    if ((output.output_type != \"display_data\") || (!Object.prototype.hasOwnProperty.call(output.data, EXEC_MIME_TYPE))) {\n      return\n    }\n\n    const toinsert = output_area.element.find(\".\" + CLASS_NAME.split(' ')[0]);\n\n    if (output.metadata[EXEC_MIME_TYPE][\"id\"] !== undefined) {\n      toinsert[toinsert.length - 1].firstChild.textContent = output.data[JS_MIME_TYPE];\n      // store reference to embed id on output_area\n      output_area._bokeh_element_id = output.metadata[EXEC_MIME_TYPE][\"id\"];\n    }\n    if (output.metadata[EXEC_MIME_TYPE][\"server_id\"] !== undefined) {\n      const bk_div = document.createElement(\"div\");\n      bk_div.innerHTML = output.data[HTML_MIME_TYPE];\n      const script_attrs = bk_div.children[0].attributes;\n      for (let i = 0; i < script_attrs.length; i++) {\n        toinsert[toinsert.length - 1].firstChild.setAttribute(script_attrs[i].name, script_attrs[i].value);\n        toinsert[toinsert.length - 1].firstChild.textContent = bk_div.children[0].textContent\n      }\n      // store reference to server id on output_area\n      output_area._bokeh_server_id = output.metadata[EXEC_MIME_TYPE][\"server_id\"];\n    }\n  }\n\n  function register_renderer(events, OutputArea) {\n\n    function append_mime(data, metadata, element) {\n      // create a DOM node to render to\n      const toinsert = this.create_output_subarea(\n        metadata,\n        CLASS_NAME,\n        EXEC_MIME_TYPE\n      );\n      this.keyboard_manager.register_events(toinsert);\n      // Render to node\n      const props = {data: data, metadata: metadata[EXEC_MIME_TYPE]};\n      render(props, toinsert[toinsert.length - 1]);\n      element.append(toinsert);\n      return toinsert\n    }\n\n    /* Handle when an output is cleared or removed */\n    events.on('clear_output.CodeCell', handleClearOutput);\n    events.on('delete.Cell', handleClearOutput);\n\n    /* Handle when a new output is added */\n    events.on('output_added.OutputArea', handleAddOutput);\n\n    /**\n     * Register the mime type and append_mime function with output_area\n     */\n    OutputArea.prototype.register_mime_type(EXEC_MIME_TYPE, append_mime, {\n      /* Is output safe? */\n      safe: true,\n      /* Index of renderer in `output_area.display_order` */\n      index: 0\n    });\n  }\n\n  // register the mime type if in Jupyter Notebook environment and previously unregistered\n  if (root.Jupyter !== undefined) {\n    const events = require('base/js/events');\n    const OutputArea = require('notebook/js/outputarea').OutputArea;\n\n    if (OutputArea.prototype.mime_types().indexOf(EXEC_MIME_TYPE) == -1) {\n      register_renderer(events, OutputArea);\n    }\n  }\n  if (typeof (root._bokeh_timeout) === \"undefined\" || force === true) {\n    root._bokeh_timeout = Date.now() + 5000;\n    root._bokeh_failed_load = false;\n  }\n\n  const NB_LOAD_WARNING = {'data': {'text/html':\n     \"<div style='background-color: #fdd'>\\n\"+\n     \"<p>\\n\"+\n     \"BokehJS does not appear to have successfully loaded. If loading BokehJS from CDN, this \\n\"+\n     \"may be due to a slow or bad network connection. Possible fixes:\\n\"+\n     \"</p>\\n\"+\n     \"<ul>\\n\"+\n     \"<li>re-rerun `output_notebook()` to attempt to load from CDN again, or</li>\\n\"+\n     \"<li>use INLINE resources instead, as so:</li>\\n\"+\n     \"</ul>\\n\"+\n     \"<code>\\n\"+\n     \"from bokeh.resources import INLINE\\n\"+\n     \"output_notebook(resources=INLINE)\\n\"+\n     \"</code>\\n\"+\n     \"</div>\"}};\n\n  function display_loaded() {\n    const el = document.getElementById(\"f07d0f17-850b-48e3-84a8-8351b9646b76\");\n    if (el != null) {\n      el.textContent = \"BokehJS is loading...\";\n    }\n    if (root.Bokeh !== undefined) {\n      if (el != null) {\n        el.textContent = \"BokehJS \" + root.Bokeh.version + \" successfully loaded.\";\n      }\n    } else if (Date.now() < root._bokeh_timeout) {\n      setTimeout(display_loaded, 100)\n    }\n  }\n\n  function run_callbacks() {\n    try {\n      root._bokeh_onload_callbacks.forEach(function(callback) {\n        if (callback != null)\n          callback();\n      });\n    } finally {\n      delete root._bokeh_onload_callbacks\n    }\n    console.debug(\"Bokeh: all callbacks have finished\");\n  }\n\n  function load_libs(css_urls, js_urls, callback) {\n    if (css_urls == null) css_urls = [];\n    if (js_urls == null) js_urls = [];\n\n    root._bokeh_onload_callbacks.push(callback);\n    if (root._bokeh_is_loading > 0) {\n      console.debug(\"Bokeh: BokehJS is being loaded, scheduling callback at\", now());\n      return null;\n    }\n    if (js_urls == null || js_urls.length === 0) {\n      run_callbacks();\n      return null;\n    }\n    console.debug(\"Bokeh: BokehJS not loaded, scheduling load and callback at\", now());\n    root._bokeh_is_loading = css_urls.length + js_urls.length;\n\n    function on_load() {\n      root._bokeh_is_loading--;\n      if (root._bokeh_is_loading === 0) {\n        console.debug(\"Bokeh: all BokehJS libraries/stylesheets loaded\");\n        run_callbacks()\n      }\n    }\n\n    function on_error(url) {\n      console.error(\"failed to load \" + url);\n    }\n\n    for (let i = 0; i < css_urls.length; i++) {\n      const url = css_urls[i];\n      const element = document.createElement(\"link\");\n      element.onload = on_load;\n      element.onerror = on_error.bind(null, url);\n      element.rel = \"stylesheet\";\n      element.type = \"text/css\";\n      element.href = url;\n      console.debug(\"Bokeh: injecting link tag for BokehJS stylesheet: \", url);\n      document.body.appendChild(element);\n    }\n\n    for (let i = 0; i < js_urls.length; i++) {\n      const url = js_urls[i];\n      const element = document.createElement('script');\n      element.onload = on_load;\n      element.onerror = on_error.bind(null, url);\n      element.async = false;\n      element.src = url;\n      console.debug(\"Bokeh: injecting script tag for BokehJS library: \", url);\n      document.head.appendChild(element);\n    }\n  };\n\n  function inject_raw_css(css) {\n    const element = document.createElement(\"style\");\n    element.appendChild(document.createTextNode(css));\n    document.body.appendChild(element);\n  }\n\n  const js_urls = [\"https://cdn.bokeh.org/bokeh/release/bokeh-3.2.2.min.js\", \"https://cdn.bokeh.org/bokeh/release/bokeh-gl-3.2.2.min.js\", \"https://cdn.bokeh.org/bokeh/release/bokeh-widgets-3.2.2.min.js\", \"https://cdn.bokeh.org/bokeh/release/bokeh-tables-3.2.2.min.js\", \"https://cdn.bokeh.org/bokeh/release/bokeh-mathjax-3.2.2.min.js\"];\n  const css_urls = [];\n\n  const inline_js = [    function(Bokeh) {\n      Bokeh.set_log_level(\"info\");\n    },\nfunction(Bokeh) {\n    }\n  ];\n\n  function run_inline_js() {\n    if (root.Bokeh !== undefined || force === true) {\n          for (let i = 0; i < inline_js.length; i++) {\n      inline_js[i].call(root, root.Bokeh);\n    }\nif (force === true) {\n        display_loaded();\n      }} else if (Date.now() < root._bokeh_timeout) {\n      setTimeout(run_inline_js, 100);\n    } else if (!root._bokeh_failed_load) {\n      console.log(\"Bokeh: BokehJS failed to load within specified timeout.\");\n      root._bokeh_failed_load = true;\n    } else if (force !== true) {\n      const cell = $(document.getElementById(\"f07d0f17-850b-48e3-84a8-8351b9646b76\")).parents('.cell').data().cell;\n      cell.output_area.append_execute_result(NB_LOAD_WARNING)\n    }\n  }\n\n  if (root._bokeh_is_loading === 0) {\n    console.debug(\"Bokeh: BokehJS loaded, going straight to plotting\");\n    run_inline_js();\n  } else {\n    load_libs(css_urls, js_urls, function() {\n      console.debug(\"Bokeh: BokehJS plotting callback run at\", now());\n      run_inline_js();\n    });\n  }\n}(window));",
      "application/vnd.bokehjs_load.v0+json": ""
     },
     "metadata": {},
     "output_type": "display_data"
    },
    {
     "ename": "KeyboardInterrupt",
     "evalue": "",
     "output_type": "error",
     "traceback": [
      "\u001b[0;31m---------------------------------------------------------------------------\u001b[0m",
      "\u001b[0;31mKeyboardInterrupt\u001b[0m                         Traceback (most recent call last)",
      "\u001b[1;32m/home/igvdov/vscode/numerical_methods2/lab3/sympson_and_trapeze.ipynb Cell 6\u001b[0m line \u001b[0;36m1\n\u001b[1;32m     <a href='vscode-notebook-cell:/home/igvdov/vscode/numerical_methods2/lab3/sympson_and_trapeze.ipynb#W5sZmlsZQ%3D%3D?line=9'>10</a>\u001b[0m \u001b[39mfor\u001b[39;00m i \u001b[39min\u001b[39;00m \u001b[39mrange\u001b[39m(\u001b[39m1\u001b[39m, \u001b[39m27\u001b[39m):\n\u001b[1;32m     <a href='vscode-notebook-cell:/home/igvdov/vscode/numerical_methods2/lab3/sympson_and_trapeze.ipynb#W5sZmlsZQ%3D%3D?line=10'>11</a>\u001b[0m     J1 \u001b[39m=\u001b[39m Bessel(\u001b[39m2.5\u001b[39m, \u001b[39m1\u001b[39m, trapeze_method, \u001b[39m0\u001b[39m, np\u001b[39m.\u001b[39mpi, dx)\n\u001b[0;32m---> <a href='vscode-notebook-cell:/home/igvdov/vscode/numerical_methods2/lab3/sympson_and_trapeze.ipynb#W5sZmlsZQ%3D%3D?line=11'>12</a>\u001b[0m     J0 \u001b[39m=\u001b[39m (Bessel(\u001b[39m2.5\u001b[39m \u001b[39m+\u001b[39m dx, \u001b[39m0\u001b[39m, trapeze_method, \u001b[39m0\u001b[39m, np\u001b[39m.\u001b[39mpi, dx) \u001b[39m-\u001b[39m Bessel(\u001b[39m2.5\u001b[39;49m, \u001b[39m0\u001b[39;49m, trapeze_method, \u001b[39m0\u001b[39;49m, np\u001b[39m.\u001b[39;49mpi, dx))\u001b[39m/\u001b[39mdx\n\u001b[1;32m     <a href='vscode-notebook-cell:/home/igvdov/vscode/numerical_methods2/lab3/sympson_and_trapeze.ipynb#W5sZmlsZQ%3D%3D?line=12'>13</a>\u001b[0m     dx\u001b[39m/\u001b[39m\u001b[39m=\u001b[39m\u001b[39m2\u001b[39m\n\u001b[1;32m     <a href='vscode-notebook-cell:/home/igvdov/vscode/numerical_methods2/lab3/sympson_and_trapeze.ipynb#W5sZmlsZQ%3D%3D?line=13'>14</a>\u001b[0m     x\u001b[39m.\u001b[39mappend(i)\n",
      "\u001b[1;32m/home/igvdov/vscode/numerical_methods2/lab3/sympson_and_trapeze.ipynb Cell 6\u001b[0m line \u001b[0;36m5\n\u001b[1;32m      <a href='vscode-notebook-cell:/home/igvdov/vscode/numerical_methods2/lab3/sympson_and_trapeze.ipynb#W5sZmlsZQ%3D%3D?line=3'>4</a>\u001b[0m \u001b[39mdef\u001b[39;00m \u001b[39mBessel\u001b[39m(x: \u001b[39mfloat\u001b[39m, m: \u001b[39mint\u001b[39m, method, low_limit, high_limit, dx \u001b[39m=\u001b[39m \u001b[39m0.1\u001b[39m):\n\u001b[0;32m----> <a href='vscode-notebook-cell:/home/igvdov/vscode/numerical_methods2/lab3/sympson_and_trapeze.ipynb#W5sZmlsZQ%3D%3D?line=4'>5</a>\u001b[0m     \u001b[39mreturn\u001b[39;00m \u001b[39m1\u001b[39m\u001b[39m/\u001b[39mnp\u001b[39m.\u001b[39mpi \u001b[39m*\u001b[39m method(integral_func,x,m, low_limit, high_limit, dx)\n",
      "File \u001b[0;32m~/vscode/numerical_methods2/lab3/trapeze.py:5\u001b[0m, in \u001b[0;36mtrapeze_method\u001b[0;34m(f, x, m, low_lim, high_lim, dx)\u001b[0m\n\u001b[1;32m      3\u001b[0m \u001b[39mdef\u001b[39;00m \u001b[39mtrapeze_method\u001b[39m(f, x, m,low_lim: \u001b[39mfloat\u001b[39m, high_lim: \u001b[39mfloat\u001b[39m, dx: \u001b[39mfloat\u001b[39m \u001b[39m=\u001b[39m \u001b[39m0.1\u001b[39m):\n\u001b[1;32m      4\u001b[0m     grid \u001b[39m=\u001b[39m np\u001b[39m.\u001b[39marange(low_lim, high_lim, dx)\n\u001b[0;32m----> 5\u001b[0m     \u001b[39mreturn\u001b[39;00m dx\u001b[39m/\u001b[39m\u001b[39m2\u001b[39m\u001b[39m*\u001b[39mnp\u001b[39m.\u001b[39msum(f(x,m, grid[:\u001b[39m-\u001b[39m\u001b[39m1\u001b[39m]) \u001b[39m+\u001b[39m f(x, m, grid[\u001b[39m1\u001b[39;49m:]))\n",
      "\u001b[1;32m/home/igvdov/vscode/numerical_methods2/lab3/sympson_and_trapeze.ipynb Cell 6\u001b[0m line \u001b[0;36m2\n\u001b[1;32m      <a href='vscode-notebook-cell:/home/igvdov/vscode/numerical_methods2/lab3/sympson_and_trapeze.ipynb#W5sZmlsZQ%3D%3D?line=0'>1</a>\u001b[0m \u001b[39mdef\u001b[39;00m \u001b[39mintegral_func\u001b[39m(x:\u001b[39mfloat\u001b[39m, m:\u001b[39mfloat\u001b[39m, t: \u001b[39mfloat\u001b[39m):\n\u001b[0;32m----> <a href='vscode-notebook-cell:/home/igvdov/vscode/numerical_methods2/lab3/sympson_and_trapeze.ipynb#W5sZmlsZQ%3D%3D?line=1'>2</a>\u001b[0m     \u001b[39mreturn\u001b[39;00m np\u001b[39m.\u001b[39;49mcos(m\u001b[39m*\u001b[39;49mt \u001b[39m-\u001b[39;49m x \u001b[39m*\u001b[39;49m np\u001b[39m.\u001b[39;49msin(t))\n",
      "\u001b[0;31mKeyboardInterrupt\u001b[0m: "
     ]
    }
   ],
   "source": [
    "\n",
    "from bokeh.models import DatetimeTickFormatter, NumeralTickFormatter\n",
    "from bokeh.plotting import figure, show\n",
    "from bokeh.io import output_notebook, push_notebook, show\n",
    "output_notebook()\n",
    "\n",
    "\n",
    "dx = np.longdouble(1)\n",
    "x = []\n",
    "y = []\n",
    "for i in range(1, 27):\n",
    "    J1 = Bessel(2.5, 1, trapeze_method, 0, np.pi, dx)\n",
    "    J0 = (Bessel(2.5 + dx, 0, trapeze_method, 0, np.pi, dx) - Bessel(2.5, 0, trapeze_method, 0, np.pi, dx))/dx\n",
    "    dx/=2\n",
    "    x.append(i)\n",
    "    y.append(J1+J0)\n",
    "\n",
    "p = figure(\n",
    "    title = \"differences\",\n",
    "\n",
    "    sizing_mode = 'stretch_width', \n",
    "    max_width = 900, \n",
    "   \n",
    ")\n",
    "\n",
    "p.circle(x, y, size = 5)\n",
    "p.line(x, y, color = 'blue', line_width=2)\n",
    "p.line(x, 1e-10, color = 'red')\n",
    "show(p)\n",
    "print(min(y))\n"
   ]
  },
  {
   "cell_type": "code",
   "execution_count": null,
   "metadata": {},
   "outputs": [
    {
     "name": "stdout",
     "output_type": "stream",
     "text": [
      "0.00050701015911792707194\n",
      "0.00050696206466622586767\n",
      "0.00050695376235474349765\n",
      "0.0005069529973122665477\n",
      "0.00050695294831645830467\n",
      "0.00050695294387556620617\n",
      "0.00050695294182233730003\n",
      "0.0005069529487449038824\n",
      "0.0005069529700611859552\n",
      "0.00050695299183720087\n",
      "0.000506953019950137499\n",
      "0.00050695335009580150275\n",
      "0.00050695346767099146103\n",
      "0.00050695397937877861345\n",
      "0.00050695503239973283685\n"
     ]
    },
    {
     "data": {
      "text/plain": [
       "0.00050695503239973283685"
      ]
     },
     "execution_count": 27,
     "metadata": {},
     "output_type": "execute_result"
    },
    {
     "data": {
      "image/png": "[encoded data removed]",
      "text/plain": [
       "<Figure size 640x480 with 1 Axes>"
      ]
     },
     "metadata": {},
     "output_type": "display_data"
    }
   ],
   "source": [
    "import matplotlib.pyplot as plt\n",
    "def deriv(val1, val2, dx):\n",
    "    return (val1 - val2) / (dx)\n",
    "dx = 0.01\n",
    "h = 0.001\n",
    "h = np.longdouble(h)\n",
    "# x = []\n",
    "# y = []\n",
    "# Bessel = np.vectorize(Bessel)\n",
    "grid = np.arange(dx, 2*np.pi,dx)\n",
    "J1 = []\n",
    "J0 = []\n",
    "for j in range(15):\n",
    "    J1 = []\n",
    "    J0 = []\n",
    "    for i in grid:\n",
    "        J1.append(Bessel(i, 1, trapeze_method, 0, np.pi, 0.01))\n",
    "    # J0_no = Bessel(grid, 0, trapeze_method, 0, np.pi, 0.01)\n",
    "        J0.append((Bessel(i+h, 0, trapeze_method, 0, np.pi, 0.01) - Bessel(i-h, 0, trapeze_method, 0, np.pi, 0.01)) / (2*h))\n",
    "    print(np.max(np.array(J1) + np.array(J0)))\n",
    "    plt.scatter(j, np.max(np.array(J1) + np.array(J0)))\n",
    "    h/=2\n",
    "# dx/=2\n",
    "# x.append(i)\n",
    "# y.append(J1+J0)\n",
    "\n",
    "# # p = figure(\n",
    "# #     title = \"differences\",\n",
    "\n",
    "# #     sizing_mode = 'stretch_width', \n",
    "# #     max_width = 900, \n",
    "   \n",
    "# # )\n",
    "\n",
    "# # p.circle(x, y, size = 5)\n",
    "# # p.line(x, y, color = 'blue', line_width=2)\n",
    "# # p.line(x, 1e-10, color = 'red')\n",
    "# # show(p)\n",
    "# # print(min(y))\n",
    "np.max(np.array(J1) + np.array(J0))"
   ]
  },
  {
   "cell_type": "code",
   "execution_count": 8,
   "metadata": {},
   "outputs": [],
   "source": [
    "from scipy.special import jv\n",
    "from scipy.integrate import simpson"
   ]
  },
  {
   "cell_type": "code",
   "execution_count": 5,
   "metadata": {},
   "outputs": [
    {
     "data": {
      "text/plain": [
       "(0.4970941024642741, 0.4970943105083663, -0.49709410281789657)"
      ]
     },
     "execution_count": 5,
     "metadata": {},
     "output_type": "execute_result"
    }
   ],
   "source": [
    "jv(1, 2.5), Bessel(2.5, 1, sympson_method, 0, np.pi, 0.00000001), (Bessel(2.5+0.000001, 0, trapeze_method, 0, np.pi, 0.00000001)- Bessel(2.5-0.000001, 0, trapeze_method, 0, np.pi, 0.00000001))/0.000002"
   ]
  },
  {
   "cell_type": "code",
   "execution_count": 10,
   "metadata": {},
   "outputs": [
    {
     "ename": "IndexError",
     "evalue": "tuple index out of range",
     "output_type": "error",
     "traceback": [
      "\u001b[0;31m---------------------------------------------------------------------------\u001b[0m",
      "\u001b[0;31mIndexError\u001b[0m                                Traceback (most recent call last)",
      "\u001b[1;32m/home/igvdov/vscode/numerical_methods2/lab3/sympson_and_trapeze.ipynb Cell 13\u001b[0m line \u001b[0;36m1\n\u001b[0;32m----> <a href='vscode-notebook-cell:/home/igvdov/vscode/numerical_methods2/lab3/sympson_and_trapeze.ipynb#X15sZmlsZQ%3D%3D?line=0'>1</a>\u001b[0m simpson(\u001b[39mlambda\u001b[39;49;00m x: x\u001b[39m*\u001b[39;49m\u001b[39m*\u001b[39;49m\u001b[39m2\u001b[39;49m, dx \u001b[39m=\u001b[39;49m \u001b[39m1\u001b[39;49m)\n",
      "File \u001b[0;32m~/.local/lib/python3.10/site-packages/scipy/integrate/_quadrature.py:614\u001b[0m, in \u001b[0;36msimpson\u001b[0;34m(y, x, dx, axis, even)\u001b[0m\n\u001b[1;32m    612\u001b[0m y \u001b[39m=\u001b[39m np\u001b[39m.\u001b[39masarray(y)\n\u001b[1;32m    613\u001b[0m nd \u001b[39m=\u001b[39m \u001b[39mlen\u001b[39m(y\u001b[39m.\u001b[39mshape)\n\u001b[0;32m--> 614\u001b[0m N \u001b[39m=\u001b[39m y\u001b[39m.\u001b[39;49mshape[axis]\n\u001b[1;32m    615\u001b[0m last_dx \u001b[39m=\u001b[39m dx\n\u001b[1;32m    616\u001b[0m first_dx \u001b[39m=\u001b[39m dx\n",
      "\u001b[0;31mIndexError\u001b[0m: tuple index out of range"
     ]
    }
   ],
   "source": [
    "simpson(lambda x: x**2, dx = 1)"
   ]
  },
  {
   "cell_type": "code",
   "execution_count": 52,
   "metadata": {},
   "outputs": [],
   "source": [
    "def bessel_function(m, x, t):\n",
    "    return np.cos(m * t - x * np.sin(t)) / np.pi\n",
    "def trapeze(function, grid):\n",
    "    res = function(grid)\n",
    "    step = grid[1] - grid[0]\n",
    "    result = step * (np.sum(res) - 0.5 * (res[0] + res[-1]))\n",
    "    return result\n",
    "def sympson(function, grid):\n",
    "    step = grid[1] - grid[0]\n",
    "    res = function(grid)\n",
    "    result = (step/6) * (res[0] + 4 * np.sum(res[1:-1]) + res[-1])\n",
    "    return result\n",
    "grid_bessel = np.linspace(0, np.pi, 1000)"
   ]
  },
  {
   "cell_type": "code",
   "execution_count": 53,
   "metadata": {},
   "outputs": [
    {
     "data": {
      "text/plain": [
       "1000"
      ]
     },
     "execution_count": 53,
     "metadata": {},
     "output_type": "execute_result"
    }
   ],
   "source": [
    "len(grid_bessel)"
   ]
  },
  {
   "cell_type": "code",
   "execution_count": 54,
   "metadata": {},
   "outputs": [],
   "source": [
    "x  = np.linspace(0, 2 * np.pi, 1000)"
   ]
  },
  {
   "cell_type": "code",
   "execution_count": 55,
   "metadata": {},
   "outputs": [
    {
     "data": {
      "text/plain": [
       "2.2319923687064147e-12"
      ]
     },
     "execution_count": 55,
     "metadata": {},
     "output_type": "execute_result"
    }
   ],
   "source": [
    "m = 1\n",
    "h = 0.00001 \n",
    "j1 = np.vectorize(lambda x: trapeze(lambda t: bessel_function(m,1,t), grid_bessel))(x)\n",
    "j0_der = np.vectorize(lambda x: (trapeze(lambda t: bessel_function(0,1+h,t), grid_bessel) - trapeze(lambda t: bessel_function(0,1-h,t), grid_bessel))/(2*h))(x)\n",
    "np.max(j1+j0_der)"
   ]
  },
  {
   "cell_type": "code",
   "execution_count": 56,
   "metadata": {},
   "outputs": [
    {
     "data": {
      "text/plain": [
       "-3.6243230638888235e-13"
      ]
     },
     "execution_count": 56,
     "metadata": {},
     "output_type": "execute_result"
    }
   ],
   "source": [
    "m = 1\n",
    "h = 0.00001 \n",
    "j1 = np.vectorize(lambda x: sympson(lambda t: bessel_function(m,1,t), grid_bessel))(x)\n",
    "j0_der = np.vectorize(lambda x: (sympson(lambda t: bessel_function(0,1+h,t), grid_bessel) - sympson(lambda t: bessel_function(0,1-h,t), grid_bessel))/(2*h))(x)\n",
    "np.max(j1+j0_der)"
   ]
  },
  {
   "cell_type": "code",
   "execution_count": null,
   "metadata": {},
   "outputs": [],
   "source": []
  }
 ],
 "metadata": {
  "kernelspec": {
   "display_name": "Python 3",
   "language": "python",
   "name": "python3"
  },
  "language_info": {
   "codemirror_mode": {
    "name": "ipython",
    "version": 3
   },
   "file_extension": ".py",
   "mimetype": "text/x-python",
   "name": "python",
   "nbconvert_exporter": "python",
   "pygments_lexer": "ipython3",
   "version": "3.10.12"
  },
  "orig_nbformat": 4
 },
 "nbformat": 4,
 "nbformat_minor": 2
}
