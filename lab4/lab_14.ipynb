{
 "cells": [
  {
   "cell_type": "code",
   "execution_count": 7,
   "id": "030caa61",
   "metadata": {},
   "outputs": [],
   "source": [
    "def johnson_algorithm(jobs):\n",
    "    jobs = sorted(jobs, key=lambda x: min(x))  # Сортировка задач по минимальному времени выполнения на машинах\n",
    "    schedule_1 = []   # Работы на машине 1\n",
    "    schedule_2 = []   # Работы на машине 2\n",
    "    for job in jobs:\n",
    "        if job[0] < job[1]:\n",
    "            schedule_1.insert(0, job)  # Помещаем задачу в начало списка\n",
    "        else:\n",
    "            schedule_2.append(job)  # Помещаем задачу в конец списка\n",
    "    # Распределение задач на две машины\n",
    "    summa = sum([job[0] for job in schedule_1]) + max(sum([job[0], job[1]]) for job in schedule_2)\n",
    "\n",
    "    return schedule_1 + schedule_2, summa"
   ]
  },
  {
   "cell_type": "code",
   "execution_count": 8,
   "id": "707af647",
   "metadata": {},
   "outputs": [],
   "source": [
    "example_jobs = [(2, 4), (3, 2), (1, 5), (4, 7)]\n",
    "schedule, makespan = johnson_algorithm(example_jobs)"
   ]
  },
  {
   "cell_type": "code",
   "execution_count": 9,
   "id": "711db526",
   "metadata": {},
   "outputs": [
    {
     "name": "stdout",
     "output_type": "stream",
     "text": [
      "Optimal Schedule: [(4, 7), (2, 4), (1, 5), (3, 2)]\n",
      "Makespan: 12\n"
     ]
    }
   ],
   "source": [
    "print(\"Optimal Schedule:\", schedule)\n",
    "print(\"Makespan:\", makespan)"
   ]
  },
  {
   "cell_type": "code",
   "execution_count": null,
   "id": "ce64cdd6",
   "metadata": {},
   "outputs": [],
   "source": []
  }
 ],
 "metadata": {
  "kernelspec": {
   "display_name": "Python 3 (ipykernel)",
   "language": "python",
   "name": "python3"
  },
  "language_info": {
   "codemirror_mode": {
    "name": "ipython",
    "version": 3
   },
   "file_extension": ".py",
   "mimetype": "text/x-python",
   "name": "python",
   "nbconvert_exporter": "python",
   "pygments_lexer": "ipython3",
   "version": "3.9.7"
  }
 },
 "nbformat": 4,
 "nbformat_minor": 5
}
