{
 "cells": [
  {
   "cell_type": "code",
   "execution_count": 216,
   "metadata": {},
   "outputs": [],
   "source": [
    "import numpy as np"
   ]
  },
  {
   "cell_type": "code",
   "execution_count": 217,
   "metadata": {},
   "outputs": [],
   "source": [
    "steps = 10\n",
    "grid = np.linspace(0, np.pi, 1000)\n",
    "h = grid[1] - grid[0]\n"
   ]
  },
  {
   "cell_type": "code",
   "execution_count": 218,
   "metadata": {},
   "outputs": [],
   "source": [
    "def create_matrix(grid):  \n",
    "    matrix = []\n",
    "    C = np.zeros(len(grid))\n",
    "    A = np.zeros(len(grid))\n",
    "    B = np.zeros(len(grid))\n",
    "    for i in range(len(grid)):\n",
    "     \n",
    "        if i == 0:\n",
    "            B[i] = 1  \n",
    "        elif i == len(grid)-1:\n",
    "            \n",
    "            B[i] = 1\n",
    "        else:\n",
    "            A[i] = 1\n",
    "            B[i] = -2\n",
    "            C[i] = 1\n",
    "\n",
    "    \n",
    "    return A, B, C\n"
   ]
  },
  {
   "cell_type": "code",
   "execution_count": 219,
   "metadata": {},
   "outputs": [],
   "source": [
    "def create_res_v(grid, h):\n",
    "\n",
    "    res_v = h ** 2 * np.sin(grid)\n",
    "    res_v[0] = 0\n",
    "    res_v[-1] = 0\n",
    "\n",
    "    return res_v"
   ]
  },
  {
   "cell_type": "code",
   "execution_count": 220,
   "metadata": {},
   "outputs": [],
   "source": [
    "def tridiagonal_matrix_algoritm(A, B, C, F):\n",
    "    alpha = np.zeros(len(A+1))\n",
    "    beta = np.zeros(len(B+1))\n",
    "    \n",
    "    alpha[1] = -C[0]/B[0]\n",
    "    beta[1] = F[0]/B[0]\n",
    "    for i in range(2, len(alpha)):\n",
    "        alpha[i] = -C[i-1]/(A[i-1] * alpha[i-1] + B[i-1])\n",
    "        beta[i] = (F[i - 1] - A[i - 1] * beta[i - 1])/(A[i - 1] * alpha[i - 1] + B[i - 1])\n",
    "    return alpha, beta"
   ]
  },
  {
   "cell_type": "code",
   "execution_count": 221,
   "metadata": {},
   "outputs": [],
   "source": [
    "def finding_x(alpha, beta, F, A,B,C):\n",
    "    x = np.zeros_like(alpha)\n",
    "\n",
    "    x[-1] = (F[-1] - A[-1] * beta[-1])/(B[-1] + A[-1] * alpha[-1])\n",
    "    for i in range(len(alpha)-2, -1, -1):\n",
    "        x[i] = alpha[i+1] * x[i+1] + beta[i+1]\n",
    "    return x"
   ]
  },
  {
   "cell_type": "code",
   "execution_count": 224,
   "metadata": {},
   "outputs": [],
   "source": [
    "steps = 100\n",
    "grid = np.linspace(0, np.pi, steps)\n",
    "h = grid[1] - grid[0]\n",
    "true_ans = -np.sin(grid)\n",
    "A, B, C = create_matrix(grid)\n",
    "res_v = create_res_v(grid, h)\n",
    "alpha = tridiagonal_matrix_algoritm(A,B,C, res_v)[0]\n",
    "beta = tridiagonal_matrix_algoritm(A,B,C, res_v)[1]\n",
    "answer = finding_x(alpha, beta, res_v, A,B,C)"
   ]
  },
  {
   "cell_type": "code",
   "execution_count": 225,
   "metadata": {},
   "outputs": [
    {
     "data": {
      "text/plain": [
       "<matplotlib.collections.PathCollection at 0x7f42be5aaec0>"
      ]
     },
     "execution_count": 225,
     "metadata": {},
     "output_type": "execute_result"
    },
    {
     "data": {
      "image/png": "[encoded data removed]",
      "text/plain": [
       "<Figure size 640x480 with 1 Axes>"
      ]
     },
     "metadata": {},
     "output_type": "display_data"
    }
   ],
   "source": [
    "import matplotlib.pyplot as plt\n",
    "plt.scatter(grid, answer)"
   ]
  },
  {
   "cell_type": "code",
   "execution_count": null,
   "metadata": {},
   "outputs": [],
   "source": [
    "answer[-1], (res_v[-1] - A[-1]*beta[-1])/A[-1]"
   ]
  },
  {
   "cell_type": "markdown",
   "metadata": {},
   "source": [
    "Видно порядок сходимости 2"
   ]
  },
  {
   "cell_type": "code",
   "execution_count": 211,
   "metadata": {},
   "outputs": [
    {
     "data": {
      "text/plain": [
       "[0.01006087042294379,\n",
       " 0.002273627604481687,\n",
       " 0.000540477783291915,\n",
       " 0.00013176886402821442,\n",
       " 3.2532057723244634e-05,\n",
       " 8.082281584997908e-06,\n",
       " 2.0142621519614323e-06,\n",
       " 5.027789677924943e-07]"
      ]
     },
     "execution_count": 211,
     "metadata": {},
     "output_type": "execute_result"
    }
   ],
   "source": [
    "steps = 5\n",
    "eps = []\n",
    "answer = []\n",
    "grid = []\n",
    "true_ans = []\n",
    "for i in range(8):\n",
    "    steps *= 2\n",
    "    grid = np.linspace(0, np.pi, steps)\n",
    "    h = grid[1] - grid[0]\n",
    "\n",
    "\n",
    "    true_ans = -np.sin(grid)\n",
    "    A, B, C = create_matrix(grid)\n",
    "    res_v = create_res_v(grid, h)\n",
    "    alpha = tridiagonal_matrix_algoritm(A,B,C, res_v)[0]\n",
    "    beta = tridiagonal_matrix_algoritm(A,B,C, res_v)[1]\n",
    "    answer = finding_x(alpha, beta, res_v, A,B,C)\n",
    "    eps.append(np.max(true_ans-answer))\n",
    "eps"
   ]
  },
  {
   "cell_type": "code",
   "execution_count": 212,
   "metadata": {},
   "outputs": [
    {
     "name": "stdout",
     "output_type": "stream",
     "text": [
      "[-2.1456872453639444, -2.0726887544669865, -2.0362258033706606, -2.018075528874235, -2.0090275581543846, -2.0045111563157225, -2.0022552538386877]\n"
     ]
    }
   ],
   "source": [
    "res = []\n",
    "for i in range(1, len(eps)):\n",
    "    res.append(np.log2(eps[i]/eps[i-1]))\n",
    "print(res)    "
   ]
  },
  {
   "cell_type": "code",
   "execution_count": 235,
   "metadata": {},
   "outputs": [],
   "source": [
    "def create_matrix(grid):  \n",
    "    matrix = []\n",
    "    C = np.zeros(len(grid))\n",
    "    A = np.zeros(len(grid))\n",
    "    B = np.zeros(len(grid))\n",
    "    for i in range(len(grid)):\n",
    "     \n",
    "        if i == 0:\n",
    "            B[i] = 1  \n",
    "        elif i == len(grid)-1:\n",
    "            A[i] = -1\n",
    "            B[i] = 1\n",
    "        else:\n",
    "            A[i] = 1\n",
    "            B[i] = -2\n",
    "            C[i] = 1\n",
    "\n",
    "    \n",
    "    return A, B, C\n",
    "def create_res_v(grid, h):\n",
    "\n",
    "    res_v = h ** 2 * np.sin(grid)\n",
    "    res_v[0] = 0\n",
    "    res_v[-1] = h\n",
    "\n",
    "    return res_v"
   ]
  },
  {
   "cell_type": "code",
   "execution_count": 239,
   "metadata": {},
   "outputs": [
    {
     "data": {
      "text/plain": [
       "[0.007160760437663814,\n",
       " 0.001698971645386747,\n",
       " 0.0004140241139349219,\n",
       " 0.00010220613118610202,\n",
       " 2.5391461890693768e-05,\n",
       " 6.328005726171565e-06,\n",
       " 1.5795277577339245e-06,\n",
       " 3.9456817760402324e-07,\n",
       " 9.859812483821603e-08,\n",
       " 2.46171406065091e-08]"
      ]
     },
     "execution_count": 239,
     "metadata": {},
     "output_type": "execute_result"
    }
   ],
   "source": [
    "steps = 10\n",
    "eps = []\n",
    "for i in range(10):\n",
    "    steps *= 2\n",
    "    grid = np.linspace(0, np.pi, steps)\n",
    "    h = grid[1] - grid[0]\n",
    "    true_ans = -np.sin(grid)\n",
    "    A, B, C = create_matrix(grid)\n",
    "    res_v = create_res_v(grid, h)\n",
    "    alpha = tridiagonal_matrix_algoritm(A,B,C, res_v)[0]\n",
    "    beta = tridiagonal_matrix_algoritm(A,B,C, res_v)[1]\n",
    "    answer = finding_x(alpha, beta, res_v, A,B,C)\n",
    "    eps.append(np.max(np.abs(answer - true_ans)))\n",
    "eps"
   ]
  },
  {
   "cell_type": "code",
   "execution_count": 240,
   "metadata": {},
   "outputs": [
    {
     "name": "stdout",
     "output_type": "stream",
     "text": [
      "[-2.075451027586001, -2.036875073259502, -2.018233052917001, -2.009066379527563, -2.004520648843058, -2.002257614876584, -2.0011467796367226, -2.0006424911997027, -2.001897013433003]\n"
     ]
    }
   ],
   "source": [
    "res = []\n",
    "for i in range(1, len(eps)):\n",
    "    res.append(np.log2(eps[i]/eps[i-1]))\n",
    "print(res)  "
   ]
  },
  {
   "cell_type": "code",
   "execution_count": 237,
   "metadata": {},
   "outputs": [
    {
     "data": {
      "text/plain": [
       "<matplotlib.collections.PathCollection at 0x7f42be3b1750>"
      ]
     },
     "execution_count": 237,
     "metadata": {},
     "output_type": "execute_result"
    },
    {
     "data": {
      "image/png": "[encoded data removed]",
      "text/plain": [
       "<Figure size 640x480 with 1 Axes>"
      ]
     },
     "metadata": {},
     "output_type": "display_data"
    }
   ],
   "source": [
    "plt.scatter(grid, answer)"
   ]
  },
  {
   "cell_type": "code",
   "execution_count": 238,
   "metadata": {},
   "outputs": [
    {
     "data": {
      "text/plain": [
       "<matplotlib.collections.PathCollection at 0x7f42be227a30>"
      ]
     },
     "execution_count": 238,
     "metadata": {},
     "output_type": "execute_result"
    },
    {
     "data": {
      "image/png": "[encoded data removed]",
      "text/plain": [
       "<Figure size 640x480 with 1 Axes>"
      ]
     },
     "metadata": {},
     "output_type": "display_data"
    }
   ],
   "source": [
    "grid = np.linspace(0, np.pi, 10)\n",
    "val = -np.sin(grid) - grid \n",
    "plt.scatter(grid, val)"
   ]
  },
  {
   "cell_type": "code",
   "execution_count": 198,
   "metadata": {},
   "outputs": [
    {
     "data": {
      "text/plain": [
       "<matplotlib.collections.PathCollection at 0x7f42be719f30>"
      ]
     },
     "execution_count": 198,
     "metadata": {},
     "output_type": "execute_result"
    },
    {
     "data": {
      "image/png": "[encoded data removed]",
      "text/plain": [
       "<Figure size 640x480 with 1 Axes>"
      ]
     },
     "metadata": {},
     "output_type": "display_data"
    }
   ],
   "source": [
    "plt.scatter(np.arange(0, len(alpha)), alpha)"
   ]
  },
  {
   "cell_type": "code",
   "execution_count": 202,
   "metadata": {},
   "outputs": [
    {
     "data": {
      "text/plain": [
       "(-0.36771887506971673, -6.251220876185181)"
      ]
     },
     "execution_count": 202,
     "metadata": {},
     "output_type": "execute_result"
    }
   ],
   "source": [
    "(res_v[-1] - A[-1] * beta[-1])/(B[-1] - A[-1] * alpha[-1]), answer[-1]"
   ]
  },
  {
   "cell_type": "code",
   "execution_count": 199,
   "metadata": {},
   "outputs": [
    {
     "data": {
      "text/plain": [
       "<matplotlib.collections.PathCollection at 0x7f42be784730>"
      ]
     },
     "execution_count": 199,
     "metadata": {},
     "output_type": "execute_result"
    },
    {
     "data": {
      "image/png": "[encoded data removed]",
      "text/plain": [
       "<Figure size 640x480 with 1 Axes>"
      ]
     },
     "metadata": {},
     "output_type": "display_data"
    }
   ],
   "source": [
    "plt.scatter(np.arange(0, len(beta)), beta)"
   ]
  },
  {
   "cell_type": "code",
   "execution_count": 200,
   "metadata": {},
   "outputs": [
    {
     "data": {
      "text/plain": [
       "<matplotlib.collections.PathCollection at 0x7f42befa3a60>"
      ]
     },
     "execution_count": 200,
     "metadata": {},
     "output_type": "execute_result"
    },
    {
     "data": {
      "image/png": "[encoded data removed]",
      "text/plain": [
       "<Figure size 640x480 with 1 Axes>"
      ]
     },
     "metadata": {},
     "output_type": "display_data"
    }
   ],
   "source": [
    "plt.scatter(np.arange(0, len(answer)), answer)"
   ]
  },
  {
   "cell_type": "code",
   "execution_count": 141,
   "metadata": {},
   "outputs": [
    {
     "data": {
      "text/plain": [
       "<matplotlib.collections.PathCollection at 0x7f42bf1a8730>"
      ]
     },
     "execution_count": 141,
     "metadata": {},
     "output_type": "execute_result"
    },
    {
     "data": {
      "image/png": "[encoded data removed]",
      "text/plain": [
       "<Figure size 640x480 with 1 Axes>"
      ]
     },
     "metadata": {},
     "output_type": "display_data"
    }
   ],
   "source": [
    "import matplotlib.pyplot as plt\n",
    "plt.scatter(grid, answer)"
   ]
  },
  {
   "cell_type": "code",
   "execution_count": 47,
   "metadata": {},
   "outputs": [
    {
     "data": {
      "text/plain": [
       "-0.9999995879420466"
      ]
     },
     "execution_count": 47,
     "metadata": {},
     "output_type": "execute_result"
    }
   ],
   "source": [
    "np.min(answer)"
   ]
  },
  {
   "cell_type": "code",
   "execution_count": 48,
   "metadata": {},
   "outputs": [
    {
     "data": {
      "text/plain": [
       "-0.9999987638285973"
      ]
     },
     "execution_count": 48,
     "metadata": {},
     "output_type": "execute_result"
    }
   ],
   "source": [
    "np.min(true_ans)"
   ]
  },
  {
   "cell_type": "code",
   "execution_count": 49,
   "metadata": {},
   "outputs": [
    {
     "data": {
      "text/plain": [
       "[<matplotlib.lines.Line2D at 0x7f42bff7a740>]"
      ]
     },
     "execution_count": 49,
     "metadata": {},
     "output_type": "execute_result"
    },
    {
     "data": {
      "image/png": "[encoded data removed]",
      "text/plain": [
       "<Figure size 640x480 with 1 Axes>"
      ]
     },
     "metadata": {},
     "output_type": "display_data"
    }
   ],
   "source": [
    "import matplotlib.pyplot as plt \n",
    "plt.plot(grid, answer)\n",
    "plt.plot(grid, true_ans)"
   ]
  },
  {
   "cell_type": "code",
   "execution_count": 47,
   "metadata": {},
   "outputs": [
    {
     "data": {
      "text/plain": [
       "array([ 0.00000000e+00, -1.55497153e-08, -5.18321793e-08, -1.08846931e-07,\n",
       "       -1.86593262e-07, -2.85070220e-07, -4.04276605e-07, -5.44210972e-07,\n",
       "       -7.04871630e-07, -8.86256640e-07, -1.08836382e-06, -1.31119074e-06,\n",
       "       -1.55473473e-06, -1.81899286e-06, -2.10396196e-06, -2.40963864e-06,\n",
       "       -2.73601921e-06, -3.08309979e-06, -3.45087623e-06, -3.83934412e-06,\n",
       "       -4.24849882e-06, -4.67833545e-06, -5.12884888e-06, -5.60003373e-06,\n",
       "       -6.09188438e-06, -6.60439495e-06, -7.13755934e-06, -7.69137118e-06,\n",
       "       -8.26582388e-06, -8.86091057e-06, -9.47662418e-06, -1.01129573e-05,\n",
       "       -1.07699025e-05, -1.14474518e-05, -1.21455972e-05, -1.28643304e-05,\n",
       "       -1.36036428e-05, -1.43635255e-05, -1.51439696e-05, -1.59449658e-05,\n",
       "       -1.67665045e-05, -1.76085759e-05, -1.84711700e-05, -1.93542765e-05,\n",
       "       -2.02578850e-05, -2.11819846e-05, -2.21265644e-05, -2.30916130e-05,\n",
       "       -2.40771191e-05, -2.50830709e-05, -2.61094564e-05, -2.71562634e-05,\n",
       "       -2.82234794e-05, -2.93110918e-05, -3.04190876e-05, -3.15474535e-05,\n",
       "       -3.26961762e-05, -3.38652421e-05, -3.50546371e-05, -3.62643471e-05,\n",
       "       -3.74943578e-05, -3.87446545e-05, -4.00152223e-05, -4.13060461e-05,\n",
       "       -4.26171105e-05, -4.39483999e-05, -4.52998986e-05, -4.66715903e-05,\n",
       "       -4.80634588e-05, -4.94754876e-05, -5.09076597e-05, -5.23599582e-05,\n",
       "       -5.38323658e-05, -5.53248649e-05, -5.68374379e-05, -5.83700666e-05,\n",
       "       -5.99227329e-05, -6.14954183e-05, -6.30881040e-05, -6.47007711e-05,\n",
       "       -6.63334004e-05, -6.79859726e-05, -6.96584678e-05, -7.13508662e-05,\n",
       "       -7.30631477e-05, -7.47952918e-05, -7.65472780e-05, -7.83190854e-05,\n",
       "       -8.01106929e-05, -8.19220792e-05, -8.37532228e-05, -8.56041017e-05,\n",
       "       -8.74746940e-05, -8.93649775e-05, -9.12749296e-05, -9.32045275e-05,\n",
       "       -9.51537484e-05, -9.71225689e-05, -9.91109658e-05, -1.01118915e-04,\n",
       "       -1.03146393e-04, -1.05193376e-04, -1.07259839e-04, -1.09345757e-04,\n",
       "       -1.11451106e-04, -1.13575860e-04, -1.15719995e-04, -1.17883485e-04,\n",
       "       -1.20066304e-04, -1.22268426e-04, -1.24489824e-04, -1.26730473e-04,\n",
       "       -1.28990345e-04, -1.31269415e-04, -1.33567654e-04, -1.35885035e-04,\n",
       "       -1.38221530e-04, -1.40577112e-04, -1.42951753e-04, -1.45345425e-04,\n",
       "       -1.47758098e-04, -1.50189744e-04, -1.52640335e-04, -1.55109840e-04,\n",
       "       -1.57598231e-04, -1.60105478e-04, -1.62631550e-04, -1.65176419e-04,\n",
       "       -1.67740053e-04, -1.70322422e-04, -1.72923495e-04, -1.75543241e-04,\n",
       "       -1.78181629e-04, -1.80838628e-04, -1.83514205e-04, -1.86208330e-04,\n",
       "       -1.88920969e-04, -1.91652090e-04, -1.94401661e-04, -1.97169649e-04,\n",
       "       -1.99956021e-04, -2.02760744e-04, -2.05583785e-04, -2.08425109e-04,\n",
       "       -2.11284682e-04, -2.14162471e-04, -2.17058442e-04, -2.19972559e-04,\n",
       "       -2.22904788e-04, -2.25855094e-04, -2.28823442e-04, -2.31809796e-04,\n",
       "       -2.34814121e-04, -2.37836381e-04, -2.40876539e-04, -2.43934560e-04,\n",
       "       -2.47010407e-04, -2.50104043e-04, -2.53215431e-04, -2.56344534e-04,\n",
       "       -2.59491315e-04, -2.62655736e-04, -2.65837760e-04, -2.69037348e-04,\n",
       "       -2.72254462e-04, -2.75489063e-04, -2.78741114e-04, -2.82010575e-04,\n",
       "       -2.85297407e-04, -2.88601571e-04, -2.91923027e-04, -2.95261736e-04,\n",
       "       -2.98617658e-04, -3.01990752e-04, -3.05380979e-04, -3.08788297e-04,\n",
       "       -3.12212667e-04, -3.15654046e-04, -3.19112395e-04, -3.22587671e-04,\n",
       "       -3.26079833e-04, -3.29588839e-04, -3.33114648e-04, -3.36657217e-04,\n",
       "       -3.40216504e-04, -3.43792465e-04, -3.47385059e-04, -3.50994243e-04,\n",
       "       -3.54619973e-04, -3.58262205e-04, -3.61920897e-04, -3.65596004e-04,\n",
       "       -3.69287482e-04, -3.72995288e-04, -3.76719376e-04, -3.80459703e-04,\n",
       "       -3.84216223e-04, -3.87988892e-04, -3.91777663e-04, -3.95582493e-04,\n",
       "       -3.99403335e-04, -4.03240143e-04, -4.07092872e-04, -4.10961476e-04,\n",
       "       -4.14845907e-04, -4.18746120e-04, -4.22662067e-04, -4.26593703e-04,\n",
       "       -4.30540978e-04, -4.34503848e-04, -4.38482263e-04, -4.42476176e-04,\n",
       "       -4.46485539e-04, -4.50510304e-04, -4.54550423e-04, -4.58605848e-04,\n",
       "       -4.62676529e-04, -4.66762417e-04, -4.70863465e-04, -4.74979622e-04,\n",
       "       -4.79110840e-04, -4.83257068e-04, -4.87418257e-04, -4.91594357e-04,\n",
       "       -4.95785317e-04, -4.99991088e-04, -5.04211618e-04, -5.08446858e-04,\n",
       "       -5.12696756e-04, -5.16961262e-04, -5.21240323e-04, -5.25533889e-04,\n",
       "       -5.29841908e-04, -5.34164328e-04, -5.38501097e-04, -5.42852164e-04,\n",
       "       -5.47217475e-04, -5.51596979e-04, -5.55990622e-04, -5.60398352e-04,\n",
       "       -5.64820115e-04, -5.69255860e-04, -5.73705531e-04, -5.78169076e-04,\n",
       "       -5.82646441e-04, -5.87137572e-04, -5.91642416e-04, -5.96160916e-04,\n",
       "       -6.00693021e-04, -6.05238674e-04, -6.09797821e-04, -6.14370407e-04,\n",
       "       -6.18956377e-04, -6.23555677e-04, -6.28168249e-04, -6.32794039e-04,\n",
       "       -6.37432992e-04, -6.42085050e-04, -6.46750159e-04, -6.51428261e-04,\n",
       "       -6.56119301e-04, -6.60823222e-04, -6.65539967e-04, -6.70269479e-04,\n",
       "       -6.75011701e-04, -6.79766576e-04, -6.84534046e-04, -6.89314055e-04,\n",
       "       -6.94106544e-04, -6.98911455e-04, -7.03728731e-04, -7.08558314e-04,\n",
       "       -7.13400144e-04, -7.18254163e-04, -7.23120314e-04, -7.27998536e-04,\n",
       "       -7.32888772e-04, -7.37790962e-04, -7.42705046e-04, -7.47630966e-04,\n",
       "       -7.52568661e-04, -7.57518073e-04, -7.62479140e-04, -7.67451804e-04,\n",
       "       -7.72436004e-04, -7.77431680e-04, -7.82438771e-04, -7.87457217e-04,\n",
       "       -7.92486957e-04, -7.97527930e-04, -8.02580074e-04, -8.07643330e-04,\n",
       "       -8.12717635e-04, -8.17802929e-04, -8.22899148e-04, -8.28006233e-04,\n",
       "       -8.33124120e-04, -8.38252748e-04, -8.43392054e-04, -8.48541977e-04,\n",
       "       -8.53702453e-04, -8.58873421e-04, -8.64054817e-04, -8.69246579e-04,\n",
       "       -8.74448644e-04, -8.79660948e-04, -8.84883428e-04, -8.90116022e-04,\n",
       "       -8.95358664e-04, -9.00611292e-04, -9.05873842e-04, -9.11146250e-04,\n",
       "       -9.16428451e-04, -9.21720383e-04, -9.27021979e-04, -9.32333177e-04,\n",
       "       -9.37653910e-04, -9.42984116e-04, -9.48323728e-04, -9.53672682e-04,\n",
       "       -9.59030912e-04, -9.64398355e-04, -9.69774943e-04, -9.75160612e-04,\n",
       "       -9.80555296e-04, -9.85958930e-04, -9.91371447e-04, -9.96792782e-04,\n",
       "       -1.00222287e-03, -1.00766164e-03, -1.01310903e-03, -1.01856498e-03,\n",
       "       -1.02402941e-03, -1.02950226e-03, -1.03498346e-03, -1.04047295e-03,\n",
       "       -1.04597066e-03, -1.05147652e-03, -1.05699046e-03, -1.06251242e-03,\n",
       "       -1.06804234e-03, -1.07358013e-03, -1.07912574e-03, -1.08467910e-03,\n",
       "       -1.09024013e-03, -1.09580878e-03, -1.10138497e-03, -1.10696863e-03,\n",
       "       -1.11255970e-03, -1.11815811e-03, -1.12376379e-03, -1.12937667e-03,\n",
       "       -1.13499668e-03, -1.14062376e-03, -1.14625783e-03, -1.15189882e-03,\n",
       "       -1.15754668e-03, -1.16320132e-03, -1.16886267e-03, -1.17453068e-03,\n",
       "       -1.18020527e-03, -1.18588636e-03, -1.19157390e-03, -1.19726780e-03,\n",
       "       -1.20296801e-03, -1.20867444e-03, -1.21438704e-03, -1.22010572e-03,\n",
       "       -1.22583043e-03, -1.23156108e-03, -1.23729762e-03, -1.24303996e-03,\n",
       "       -1.24878804e-03, -1.25454179e-03, -1.26030113e-03, -1.26606600e-03,\n",
       "       -1.27183633e-03, -1.27761204e-03, -1.28339306e-03, -1.28917932e-03,\n",
       "       -1.29497075e-03, -1.30076729e-03, -1.30656885e-03, -1.31237536e-03,\n",
       "       -1.31818676e-03, -1.32400297e-03, -1.32982392e-03, -1.33564955e-03,\n",
       "       -1.34147977e-03, -1.34731451e-03, -1.35315371e-03, -1.35899729e-03,\n",
       "       -1.36484517e-03, -1.37069730e-03, -1.37655359e-03, -1.38241397e-03,\n",
       "       -1.38827837e-03, -1.39414672e-03, -1.40001894e-03, -1.40589496e-03,\n",
       "       -1.41177472e-03, -1.41765812e-03, -1.42354512e-03, -1.42943562e-03,\n",
       "       -1.43532956e-03, -1.44122686e-03, -1.44712746e-03, -1.45303128e-03,\n",
       "       -1.45893823e-03, -1.46484827e-03, -1.47076130e-03, -1.47667725e-03,\n",
       "       -1.48259606e-03, -1.48851764e-03, -1.49444193e-03, -1.50036885e-03,\n",
       "       -1.50629832e-03, -1.51223028e-03, -1.51816465e-03, -1.52410136e-03,\n",
       "       -1.53004033e-03, -1.53598148e-03, -1.54192475e-03, -1.54787006e-03,\n",
       "       -1.55381733e-03, -1.55976650e-03, -1.56571749e-03, -1.57167022e-03,\n",
       "       -1.57762461e-03, -1.58358061e-03, -1.58953812e-03, -1.59549708e-03,\n",
       "       -1.60145741e-03, -1.60741904e-03, -1.61338189e-03, -1.61934589e-03,\n",
       "       -1.62531096e-03, -1.63127704e-03, -1.63724403e-03, -1.64321188e-03,\n",
       "       -1.64918050e-03, -1.65514983e-03, -1.66111978e-03, -1.66709027e-03,\n",
       "       -1.67306125e-03, -1.67903263e-03, -1.68500433e-03, -1.69097628e-03,\n",
       "       -1.69694841e-03, -1.70292065e-03, -1.70889290e-03, -1.71486511e-03,\n",
       "       -1.72083720e-03, -1.72680909e-03, -1.73278070e-03, -1.73875197e-03,\n",
       "       -1.74472281e-03, -1.75069315e-03, -1.75666291e-03, -1.76263203e-03,\n",
       "       -1.76860042e-03, -1.77456801e-03, -1.78053473e-03, -1.78650050e-03,\n",
       "       -1.79246523e-03, -1.79842887e-03, -1.80439133e-03, -1.81035254e-03,\n",
       "       -1.81631243e-03, -1.82227091e-03, -1.82822791e-03, -1.83418336e-03,\n",
       "       -1.84013718e-03, -1.84608929e-03, -1.85203963e-03, -1.85798811e-03,\n",
       "       -1.86393466e-03, -1.86987921e-03, -1.87582167e-03, -1.88176198e-03,\n",
       "       -1.88770006e-03, -1.89363583e-03, -1.89956921e-03, -1.90550014e-03,\n",
       "       -1.91142854e-03, -1.91735432e-03, -1.92327743e-03, -1.92919777e-03,\n",
       "       -1.93511527e-03, -1.94102987e-03, -1.94694148e-03, -1.95285003e-03,\n",
       "       -1.95875544e-03, -1.96465764e-03, -1.97055656e-03, -1.97645211e-03,\n",
       "       -1.98234422e-03, -1.98823282e-03, -1.99411783e-03, -1.99999918e-03,\n",
       "       -2.00587678e-03, -2.01175058e-03, -2.01762048e-03, -2.02348642e-03,\n",
       "       -2.02934832e-03, -2.03520610e-03, -2.04105969e-03, -2.04690902e-03,\n",
       "       -2.05275400e-03, -2.05859458e-03, -2.06443065e-03, -2.07026217e-03,\n",
       "       -2.07608904e-03, -2.08191120e-03, -2.08772856e-03, -2.09354106e-03,\n",
       "       -2.09934862e-03, -2.10515116e-03, -2.11094861e-03, -2.11674090e-03,\n",
       "       -2.12252794e-03, -2.12830967e-03, -2.13408602e-03, -2.13985689e-03,\n",
       "       -2.14562223e-03, -2.15138195e-03, -2.15713599e-03, -2.16288426e-03,\n",
       "       -2.16862669e-03, -2.17436321e-03, -2.18009375e-03, -2.18581822e-03,\n",
       "       -2.19153656e-03, -2.19724869e-03, -2.20295453e-03, -2.20865402e-03,\n",
       "       -2.21434707e-03, -2.22003362e-03, -2.22571358e-03, -2.23138689e-03,\n",
       "       -2.23705347e-03, -2.24271325e-03, -2.24836616e-03, -2.25401211e-03,\n",
       "       -2.25965103e-03, -2.26528286e-03, -2.27090752e-03, -2.27652493e-03,\n",
       "       -2.28213502e-03, -2.28773772e-03, -2.29333295e-03, -2.29892064e-03,\n",
       "       -2.30450072e-03, -2.31007312e-03, -2.31563775e-03, -2.32119455e-03,\n",
       "       -2.32674344e-03, -2.33228435e-03, -2.33781721e-03, -2.34334195e-03,\n",
       "       -2.34885848e-03, -2.35436675e-03, -2.35986667e-03, -2.36535818e-03,\n",
       "       -2.37084119e-03, -2.37631564e-03, -2.38178146e-03, -2.38723857e-03,\n",
       "       -2.39268691e-03, -2.39812639e-03, -2.40355694e-03, -2.40897850e-03,\n",
       "       -2.41439099e-03, -2.41979434e-03, -2.42518848e-03, -2.43057334e-03,\n",
       "       -2.43594884e-03, -2.44131491e-03, -2.44667148e-03, -2.45201848e-03,\n",
       "       -2.45735584e-03, -2.46268348e-03, -2.46800134e-03, -2.47330935e-03,\n",
       "       -2.47860742e-03, -2.48389550e-03, -2.48917350e-03, -2.49444137e-03,\n",
       "       -2.49969902e-03, -2.50494640e-03, -2.51018341e-03, -2.51541001e-03,\n",
       "       -2.52062611e-03, -2.52583165e-03, -2.53102655e-03, -2.53621075e-03,\n",
       "       -2.54138417e-03, -2.54654675e-03, -2.55169841e-03, -2.55683909e-03,\n",
       "       -2.56196871e-03, -2.56708721e-03, -2.57219451e-03, -2.57729055e-03,\n",
       "       -2.58237526e-03, -2.58744856e-03, -2.59251040e-03, -2.59756069e-03,\n",
       "       -2.60259937e-03, -2.60762638e-03, -2.61264164e-03, -2.61764508e-03,\n",
       "       -2.62263664e-03, -2.62761625e-03, -2.63258383e-03, -2.63753933e-03,\n",
       "       -2.64248266e-03, -2.64741378e-03, -2.65233260e-03, -2.65723905e-03,\n",
       "       -2.66213308e-03, -2.66701461e-03, -2.67188358e-03, -2.67673992e-03,\n",
       "       -2.68158355e-03, -2.68641442e-03, -2.69123246e-03, -2.69603760e-03,\n",
       "       -2.70082977e-03, -2.70560890e-03, -2.71037494e-03, -2.71512781e-03,\n",
       "       -2.71986745e-03, -2.72459379e-03, -2.72930676e-03, -2.73400630e-03,\n",
       "       -2.73869234e-03, -2.74336482e-03, -2.74802367e-03, -2.75266883e-03,\n",
       "       -2.75730023e-03, -2.76191780e-03, -2.76652149e-03, -2.77111122e-03,\n",
       "       -2.77568692e-03, -2.78024855e-03, -2.78479602e-03, -2.78932928e-03,\n",
       "       -2.79384827e-03, -2.79835291e-03, -2.80284314e-03, -2.80731890e-03,\n",
       "       -2.81178013e-03, -2.81622677e-03, -2.82065873e-03, -2.82507598e-03,\n",
       "       -2.82947844e-03, -2.83386604e-03, -2.83823873e-03, -2.84259644e-03,\n",
       "       -2.84693912e-03, -2.85126669e-03, -2.85557909e-03, -2.85987627e-03,\n",
       "       -2.86415816e-03, -2.86842469e-03, -2.87267581e-03, -2.87691146e-03,\n",
       "       -2.88113157e-03, -2.88533608e-03, -2.88952493e-03, -2.89369806e-03,\n",
       "       -2.89785540e-03, -2.90199690e-03, -2.90612250e-03, -2.91023214e-03,\n",
       "       -2.91432575e-03, -2.91840327e-03, -2.92246465e-03, -2.92650982e-03,\n",
       "       -2.93053873e-03, -2.93455131e-03, -2.93854751e-03, -2.94252727e-03,\n",
       "       -2.94649052e-03, -2.95043720e-03, -2.95436727e-03, -2.95828066e-03,\n",
       "       -2.96217731e-03, -2.96605716e-03, -2.96992015e-03, -2.97376624e-03,\n",
       "       -2.97759535e-03, -2.98140743e-03, -2.98520242e-03, -2.98898027e-03,\n",
       "       -2.99274092e-03, -2.99648431e-03, -3.00021038e-03, -3.00391908e-03,\n",
       "       -3.00761035e-03, -3.01128413e-03, -3.01494037e-03, -3.01857901e-03,\n",
       "       -3.02220000e-03, -3.02580328e-03, -3.02938879e-03, -3.03295648e-03,\n",
       "       -3.03650629e-03, -3.04003817e-03, -3.04355206e-03, -3.04704791e-03,\n",
       "       -3.05052566e-03, -3.05398526e-03, -3.05742666e-03, -3.06084980e-03,\n",
       "       -3.06425462e-03, -3.06764107e-03, -3.07100911e-03, -3.07435867e-03,\n",
       "       -3.07768970e-03, -3.08100215e-03, -3.08429597e-03, -3.08757110e-03,\n",
       "       -3.09082749e-03, -3.09406509e-03, -3.09728384e-03, -3.10048370e-03,\n",
       "       -3.10366462e-03, -3.10682653e-03, -3.10996939e-03, -3.11309316e-03,\n",
       "       -3.11619776e-03, -3.11928317e-03, -3.12234932e-03, -3.12539616e-03,\n",
       "       -3.12842365e-03, -3.13143174e-03, -3.13442037e-03, -3.13738949e-03,\n",
       "       -3.14033906e-03, -3.14326902e-03, -3.14617933e-03, -3.14906994e-03,\n",
       "       -3.15194079e-03, -3.15479185e-03, -3.15762306e-03, -3.16043437e-03,\n",
       "       -3.16322573e-03, -3.16599711e-03, -3.16874844e-03, -3.17147968e-03,\n",
       "       -3.17419079e-03, -3.17688172e-03, -3.17955242e-03, -3.18220284e-03,\n",
       "       -3.18483294e-03, -3.18744267e-03, -3.19003199e-03, -3.19260084e-03,\n",
       "       -3.19514919e-03, -3.19767699e-03, -3.20018419e-03, -3.20267075e-03,\n",
       "       -3.20513662e-03, -3.20758176e-03, -3.21000612e-03, -3.21240966e-03,\n",
       "       -3.21479234e-03, -3.21715411e-03, -3.21949492e-03, -3.22181474e-03,\n",
       "       -3.22411352e-03, -3.22639122e-03, -3.22864780e-03, -3.23088320e-03,\n",
       "       -3.23309740e-03, -3.23529034e-03, -3.23746199e-03, -3.23961230e-03,\n",
       "       -3.24174124e-03, -3.24384876e-03, -3.24593481e-03, -3.24799937e-03,\n",
       "       -3.25004238e-03, -3.25206381e-03, -3.25406362e-03, -3.25604176e-03,\n",
       "       -3.25799820e-03, -3.25993290e-03, -3.26184582e-03, -3.26373691e-03,\n",
       "       -3.26560614e-03, -3.26745348e-03, -3.26927888e-03, -3.27108230e-03,\n",
       "       -3.27286370e-03, -3.27462306e-03, -3.27636032e-03, -3.27807546e-03,\n",
       "       -3.27976843e-03, -3.28143920e-03, -3.28308773e-03, -3.28471398e-03,\n",
       "       -3.28631792e-03, -3.28789952e-03, -3.28945873e-03, -3.29099552e-03,\n",
       "       -3.29250985e-03, -3.29400169e-03, -3.29547101e-03, -3.29691776e-03,\n",
       "       -3.29834193e-03, -3.29974346e-03, -3.30112232e-03, -3.30247849e-03,\n",
       "       -3.30381193e-03, -3.30512260e-03, -3.30641047e-03, -3.30767551e-03,\n",
       "       -3.30891769e-03, -3.31013697e-03, -3.31133332e-03, -3.31250671e-03,\n",
       "       -3.31365710e-03, -3.31478447e-03, -3.31588878e-03, -3.31697001e-03,\n",
       "       -3.31802811e-03, -3.31906307e-03, -3.32007484e-03, -3.32106341e-03,\n",
       "       -3.32202873e-03, -3.32297079e-03, -3.32388954e-03, -3.32478496e-03,\n",
       "       -3.32565703e-03, -3.32650570e-03, -3.32733097e-03, -3.32813278e-03,\n",
       "       -3.32891113e-03, -3.32966597e-03, -3.33039728e-03, -3.33110504e-03,\n",
       "       -3.33178922e-03, -3.33244978e-03, -3.33308671e-03, -3.33369997e-03,\n",
       "       -3.33428954e-03, -3.33485540e-03, -3.33539752e-03, -3.33591586e-03,\n",
       "       -3.33641042e-03, -3.33688115e-03, -3.33732805e-03, -3.33775107e-03,\n",
       "       -3.33815021e-03, -3.33852542e-03, -3.33887670e-03, -3.33920402e-03,\n",
       "       -3.33950734e-03, -3.33978666e-03, -3.34004194e-03, -3.34027317e-03,\n",
       "       -3.34048032e-03, -3.34066337e-03, -3.34082229e-03, -3.34095707e-03,\n",
       "       -3.34106769e-03, -3.34115411e-03, -3.34121633e-03, -3.34125432e-03,\n",
       "       -3.34126806e-03, -3.34125754e-03, -3.34122272e-03, -3.34116359e-03,\n",
       "       -3.34108013e-03, -3.34097233e-03, -3.34084015e-03, -3.34068359e-03,\n",
       "       -3.34050263e-03, -3.34029724e-03, -3.34006741e-03, -3.33981313e-03,\n",
       "       -3.33953436e-03, -3.33923110e-03, -3.33890334e-03, -3.33855104e-03,\n",
       "       -3.33817420e-03, -3.33777280e-03, -3.33734682e-03, -3.33689625e-03,\n",
       "       -3.33642107e-03, -3.33592127e-03, -3.33539683e-03, -3.33484774e-03,\n",
       "       -3.33427398e-03, -3.33367554e-03, -3.33305240e-03, -3.33240455e-03,\n",
       "       -3.33173198e-03, -3.33103467e-03, -3.33031261e-03, -3.32956579e-03,\n",
       "       -3.32879419e-03, -3.32799781e-03, -3.32717663e-03, -3.32633063e-03,\n",
       "       -3.32545982e-03, -3.32456416e-03, -3.32364367e-03, -3.32269831e-03,\n",
       "       -3.32172810e-03, -3.32073300e-03, -3.31971302e-03, -3.31866814e-03,\n",
       "       -3.31759835e-03, -3.31650365e-03, -3.31538403e-03, -3.31423947e-03,\n",
       "       -3.31306997e-03, -3.31187553e-03, -3.31065612e-03, -3.30941175e-03,\n",
       "       -3.30814240e-03, -3.30684808e-03, -3.30552877e-03, -3.30418446e-03,\n",
       "       -3.30281516e-03, -3.30142084e-03, -3.30000152e-03, -3.29855718e-03,\n",
       "       -3.29708781e-03, -3.29559342e-03, -3.29407399e-03, -3.29252953e-03,\n",
       "       -3.29096002e-03, -3.28936547e-03, -3.28774586e-03, -3.28610120e-03,\n",
       "       -3.28443149e-03, -3.28273671e-03, -3.28101687e-03, -3.27927196e-03,\n",
       "       -3.27750199e-03, -3.27570695e-03, -3.27388683e-03, -3.27204164e-03,\n",
       "       -3.27017137e-03, -3.26827603e-03, -3.26635562e-03, -3.26441012e-03,\n",
       "       -3.26243955e-03, -3.26044390e-03, -3.25842317e-03, -3.25637737e-03,\n",
       "       -3.25430648e-03, -3.25221053e-03, -3.25008950e-03, -3.24794340e-03,\n",
       "       -3.24577223e-03, -3.24357599e-03, -3.24135468e-03, -3.23910831e-03,\n",
       "       -3.23683689e-03, -3.23454040e-03, -3.23221886e-03, -3.22987227e-03,\n",
       "       -3.22750063e-03, -3.22510395e-03, -3.22268223e-03, -3.22023548e-03,\n",
       "       -3.21776370e-03, -3.21526690e-03, -3.21274508e-03, -3.21019825e-03,\n",
       "       -3.20762641e-03, -3.20502957e-03, -3.20240774e-03, -3.19976093e-03,\n",
       "       -3.19708913e-03, -3.19439236e-03, -3.19167062e-03, -3.18892393e-03,\n",
       "       -3.18615229e-03, -3.18335571e-03, -3.18053420e-03, -3.17768776e-03,\n",
       "       -3.17481641e-03, -3.17192016e-03, -3.16899900e-03, -3.16605297e-03,\n",
       "       -3.16308206e-03, -3.16008628e-03, -3.15706565e-03, -3.15402017e-03,\n",
       "       -3.15094986e-03, -3.14785474e-03, -3.14473480e-03,  0.00000000e+00])"
      ]
     },
     "execution_count": 47,
     "metadata": {},
     "output_type": "execute_result"
    }
   ],
   "source": [
    "beta"
   ]
  },
  {
   "cell_type": "code",
   "execution_count": 48,
   "metadata": {},
   "outputs": [
    {
     "data": {
      "text/plain": [
       "3.075538773168939e-13"
      ]
     },
     "execution_count": 48,
     "metadata": {},
     "output_type": "execute_result"
    }
   ],
   "source": [
    "res_v[-2]*(h**2)"
   ]
  },
  {
   "cell_type": "code",
   "execution_count": 49,
   "metadata": {},
   "outputs": [
    {
     "data": {
      "text/plain": [
       "array([-0.00314473, -0.00628944, -0.00943408, -0.01257863, -0.01572305,\n",
       "       -0.01886732, -0.0220114 , -0.02515527, -0.02829888, -0.03144222,\n",
       "       -0.03458524, -0.03772792, -0.04087023, -0.04401214, -0.04715361,\n",
       "       -0.05029461, -0.05343512, -0.0565751 , -0.05971451, -0.06285334,\n",
       "       -0.06599155, -0.0691291 , -0.07226597, -0.07540213, -0.07853754,\n",
       "       -0.08167217, -0.08480599, -0.08793898, -0.0910711 , -0.09420231,\n",
       "       -0.0973326 , -0.10046192, -0.10359025, -0.10671755, -0.1098438 ,\n",
       "       -0.11296896, -0.11609301, -0.11921591, -0.12233763, -0.12545813,\n",
       "       -0.1285774 , -0.1316954 , -0.13481209, -0.13792745, -0.14104145,\n",
       "       -0.14415405, -0.14726523, -0.15037495, -0.15348318, -0.15658989,\n",
       "       -0.15969506, -0.16279865, -0.16590062, -0.16900096, -0.17209962,\n",
       "       -0.17519659, -0.17829182, -0.18138529, -0.18447696, -0.18756681,\n",
       "       -0.1906548 , -0.19374091, -0.1968251 , -0.19990735, -0.20298762,\n",
       "       -0.20606588, -0.20914211, -0.21221626, -0.21528832, -0.21835825,\n",
       "       -0.22142601, -0.22449159, -0.22755495, -0.23061606, -0.23367489,\n",
       "       -0.23673141, -0.23978558, -0.24283739, -0.24588679, -0.24893376,\n",
       "       -0.25197827, -0.25502029, -0.25805978, -0.26109673, -0.26413109,\n",
       "       -0.26716284, -0.27019194, -0.27321838, -0.27624211, -0.27926311,\n",
       "       -0.28228135, -0.2852968 , -0.28830943, -0.2913192 , -0.2943261 ,\n",
       "       -0.29733008, -0.30033113, -0.3033292 , -0.30632427, -0.30931632,\n",
       "       -0.3123053 , -0.3152912 , -0.31827398, -0.32125361, -0.32423006,\n",
       "       -0.32720331, -0.33017332, -0.33314007, -0.33610352, -0.33906365,\n",
       "       -0.34202043, -0.34497382, -0.3479238 , -0.35087034, -0.35381341,\n",
       "       -0.35675298, -0.35968903, -0.36262151, -0.36555041, -0.3684757 ,\n",
       "       -0.37139734, -0.37431531, -0.37722958, -0.38014011, -0.38304689,\n",
       "       -0.38594988, -0.38884905, -0.39174438, -0.39463583, -0.39752338,\n",
       "       -0.400407  , -0.40328665, -0.40616233, -0.40903398, -0.41190159,\n",
       "       -0.41476512, -0.41762456, -0.42047986, -0.423331  , -0.42617796,\n",
       "       -0.42902071, -0.43185921, -0.43469344, -0.43752337, -0.44034898,\n",
       "       -0.44317023, -0.44598709, -0.44879955, -0.45160757, -0.45441112,\n",
       "       -0.45721018, -0.46000472, -0.4627947 , -0.46558012, -0.46836092,\n",
       "       -0.4711371 , -0.47390861, -0.47667544, -0.47943756, -0.48219493,\n",
       "       -0.48494754, -0.48769535, -0.49043833, -0.49317647, -0.49590973,\n",
       "       -0.49863808, -0.50136151, -0.50407997, -0.50679345, -0.50950192,\n",
       "       -0.51220535, -0.51490371, -0.51759699, -0.52028514, -0.52296815,\n",
       "       -0.52564599, -0.52831862, -0.53098604, -0.5336482 , -0.53630509,\n",
       "       -0.53895667, -0.54160292, -0.54424381, -0.54687933, -0.54950943,\n",
       "       -0.5521341 , -0.55475331, -0.55736704, -0.55997525, -0.56257792,\n",
       "       -0.56517503, -0.56776655, -0.57035246, -0.57293273, -0.57550733,\n",
       "       -0.57807624, -0.58063943, -0.58319688, -0.58574856, -0.58829445,\n",
       "       -0.59083452, -0.59336875, -0.59589711, -0.59841958, -0.60093613,\n",
       "       -0.60344674, -0.60595138, -0.60845002, -0.61094265, -0.61342924,\n",
       "       -0.61590976, -0.61838419, -0.62085251, -0.62331468, -0.62577069,\n",
       "       -0.62822052, -0.63066412, -0.6331015 , -0.63553261, -0.63795744,\n",
       "       -0.64037595, -0.64278814, -0.64519397, -0.64759342, -0.64998646,\n",
       "       -0.65237307, -0.65475324, -0.65712693, -0.65949412, -0.66185479,\n",
       "       -0.66420891, -0.66655646, -0.66889742, -0.67123177, -0.67355948,\n",
       "       -0.67588053, -0.67819489, -0.68050255, -0.68280348, -0.68509766,\n",
       "       -0.68738506, -0.68966566, -0.69193944, -0.69420638, -0.69646645,\n",
       "       -0.69871964, -0.70096591, -0.70320526, -0.70543765, -0.70766306,\n",
       "       -0.70988148, -0.71209287, -0.71429723, -0.71649451, -0.71868472,\n",
       "       -0.72086781, -0.72304378, -0.7252126 , -0.72737424, -0.72952869,\n",
       "       -0.73167593, -0.73381593, -0.73594867, -0.73807414, -0.74019231,\n",
       "       -0.74230315, -0.74440666, -0.7465028 , -0.74859157, -0.75067292,\n",
       "       -0.75274686, -0.75481335, -0.75687238, -0.75892392, -0.76096795,\n",
       "       -0.76300446, -0.76503343, -0.76705483, -0.76906864, -0.77107485,\n",
       "       -0.77307343, -0.77506437, -0.77704764, -0.77902323, -0.78099111,\n",
       "       -0.78295127, -0.78490369, -0.78684834, -0.78878522, -0.79071429,\n",
       "       -0.79263554, -0.79454896, -0.79645452, -0.7983522 , -0.80024198,\n",
       "       -0.80212385, -0.80399779, -0.80586378, -0.8077218 , -0.80957183,\n",
       "       -0.81141386, -0.81324786, -0.81507381, -0.81689171, -0.81870153,\n",
       "       -0.82050325, -0.82229686, -0.82408234, -0.82585966, -0.82762882,\n",
       "       -0.8293898 , -0.83114257, -0.83288712, -0.83462344, -0.8363515 ,\n",
       "       -0.83807129, -0.83978279, -0.84148599, -0.84318087, -0.84486741,\n",
       "       -0.84654559, -0.8482154 , -0.84987682, -0.85152984, -0.85317444,\n",
       "       -0.8548106 , -0.8564383 , -0.85805754, -0.85966829, -0.86127054,\n",
       "       -0.86286427, -0.86444947, -0.86602612, -0.8675942 , -0.86915371,\n",
       "       -0.87070462, -0.87224692, -0.87378059, -0.87530562, -0.876822  ,\n",
       "       -0.8783297 , -0.87982872, -0.88131904, -0.88280064, -0.88427351,\n",
       "       -0.88573764, -0.88719301, -0.8886396 , -0.8900774 , -0.89150641,\n",
       "       -0.89292659, -0.89433795, -0.89574046, -0.89713412, -0.8985189 ,\n",
       "       -0.89989479, -0.90126179, -0.90261987, -0.90396903, -0.90530925,\n",
       "       -0.90664051, -0.90796281, -0.90927613, -0.91058045, -0.91187578,\n",
       "       -0.91316208, -0.91443935, -0.91570758, -0.91696676, -0.91821686,\n",
       "       -0.91945789, -0.92068982, -0.92191265, -0.92312636, -0.92433094,\n",
       "       -0.92552638, -0.92671267, -0.92788979, -0.92905774, -0.9302165 ,\n",
       "       -0.93136606, -0.93250641, -0.93363753, -0.93475943, -0.93587208,\n",
       "       -0.93697547, -0.9380696 , -0.93915445, -0.94023002, -0.94129628,\n",
       "       -0.94235324, -0.94340088, -0.94443918, -0.94546815, -0.94648777,\n",
       "       -0.94749803, -0.94849892, -0.94949042, -0.95047254, -0.95144526,\n",
       "       -0.95240857, -0.95336246, -0.95430692, -0.95524194, -0.95616752,\n",
       "       -0.95708364, -0.9579903 , -0.95888748, -0.95977519, -0.96065339,\n",
       "       -0.9615221 , -0.9623813 , -0.96323098, -0.96407114, -0.96490176,\n",
       "       -0.96572284, -0.96653437, -0.96733635, -0.96812875, -0.96891158,\n",
       "       -0.96968483, -0.97044849, -0.97120255, -0.97194701, -0.97268186,\n",
       "       -0.97340708, -0.97412268, -0.97482865, -0.97552498, -0.97621166,\n",
       "       -0.97688868, -0.97755604, -0.97821374, -0.97886176, -0.97950011,\n",
       "       -0.98012876, -0.98074773, -0.98135699, -0.98195655, -0.9825464 ,\n",
       "       -0.98312653, -0.98369694, -0.98425762, -0.98480856, -0.98534977,\n",
       "       -0.98588124, -0.98640295, -0.98691491, -0.98741711, -0.98790954,\n",
       "       -0.98839221, -0.98886509, -0.9893282 , -0.98978153, -0.99022507,\n",
       "       -0.99065881, -0.99108276, -0.99149691, -0.99190125, -0.99229579,\n",
       "       -0.9926805 , -0.99305541, -0.99342049, -0.99377575, -0.99412118,\n",
       "       -0.99445678, -0.99478254, -0.99509847, -0.99540455, -0.99570079,\n",
       "       -0.99598719, -0.99626373, -0.99653042, -0.99678726, -0.99703424,\n",
       "       -0.99727136, -0.99749862, -0.99771601, -0.99792354, -0.99812119,\n",
       "       -0.99830898, -0.99848689, -0.99865493, -0.9988131 , -0.99896138,\n",
       "       -0.99909979, -0.99922832, -0.99934696, -0.99945572, -0.9995546 ,\n",
       "       -0.99964359, -0.9997227 , -0.99979192, -0.99985125, -0.9999007 ,\n",
       "       -0.99994025, -0.99996992, -0.9999897 , -0.99999959, -0.99999959,\n",
       "       -0.9999897 , -0.99996992, -0.99994025, -0.9999007 , -0.99985125,\n",
       "       -0.99979192, -0.9997227 , -0.99964359, -0.9995546 , -0.99945572,\n",
       "       -0.99934696, -0.99922832, -0.99909979, -0.99896138, -0.9988131 ,\n",
       "       -0.99865493, -0.99848689, -0.99830898, -0.99812119, -0.99792354,\n",
       "       -0.99771601, -0.99749862, -0.99727136, -0.99703424, -0.99678726,\n",
       "       -0.99653042, -0.99626373, -0.99598719, -0.99570079, -0.99540455,\n",
       "       -0.99509847, -0.99478254, -0.99445678, -0.99412118, -0.99377575,\n",
       "       -0.99342049, -0.99305541, -0.9926805 , -0.99229579, -0.99190125,\n",
       "       -0.99149691, -0.99108276, -0.99065881, -0.99022507, -0.98978153,\n",
       "       -0.9893282 , -0.98886509, -0.98839221, -0.98790954, -0.98741711,\n",
       "       -0.98691491, -0.98640295, -0.98588124, -0.98534977, -0.98480856,\n",
       "       -0.98425762, -0.98369694, -0.98312653, -0.9825464 , -0.98195655,\n",
       "       -0.98135699, -0.98074773, -0.98012876, -0.97950011, -0.97886176,\n",
       "       -0.97821374, -0.97755604, -0.97688868, -0.97621166, -0.97552498,\n",
       "       -0.97482865, -0.97412268, -0.97340708, -0.97268186, -0.97194701,\n",
       "       -0.97120255, -0.97044849, -0.96968483, -0.96891158, -0.96812875,\n",
       "       -0.96733635, -0.96653437, -0.96572284, -0.96490176, -0.96407114,\n",
       "       -0.96323098, -0.9623813 , -0.9615221 , -0.96065339, -0.95977519,\n",
       "       -0.95888748, -0.9579903 , -0.95708364, -0.95616752, -0.95524194,\n",
       "       -0.95430692, -0.95336246, -0.95240857, -0.95144526, -0.95047254,\n",
       "       -0.94949042, -0.94849892, -0.94749803, -0.94648777, -0.94546815,\n",
       "       -0.94443918, -0.94340088, -0.94235324, -0.94129628, -0.94023002,\n",
       "       -0.93915445, -0.9380696 , -0.93697547, -0.93587208, -0.93475943,\n",
       "       -0.93363753, -0.93250641, -0.93136606, -0.9302165 , -0.92905774,\n",
       "       -0.92788979, -0.92671267, -0.92552638, -0.92433094, -0.92312636,\n",
       "       -0.92191265, -0.92068982, -0.91945789, -0.91821686, -0.91696676,\n",
       "       -0.91570758, -0.91443935, -0.91316208, -0.91187578, -0.91058045,\n",
       "       -0.90927613, -0.90796281, -0.90664051, -0.90530925, -0.90396903,\n",
       "       -0.90261987, -0.90126179, -0.89989479, -0.8985189 , -0.89713412,\n",
       "       -0.89574046, -0.89433795, -0.89292659, -0.89150641, -0.8900774 ,\n",
       "       -0.8886396 , -0.88719301, -0.88573764, -0.88427351, -0.88280064,\n",
       "       -0.88131904, -0.87982872, -0.8783297 , -0.876822  , -0.87530562,\n",
       "       -0.87378059, -0.87224692, -0.87070462, -0.86915371, -0.8675942 ,\n",
       "       -0.86602612, -0.86444947, -0.86286427, -0.86127054, -0.85966829,\n",
       "       -0.85805754, -0.8564383 , -0.8548106 , -0.85317444, -0.85152984,\n",
       "       -0.84987682, -0.8482154 , -0.84654559, -0.84486741, -0.84318087,\n",
       "       -0.84148599, -0.83978279, -0.83807129, -0.8363515 , -0.83462344,\n",
       "       -0.83288712, -0.83114257, -0.8293898 , -0.82762882, -0.82585966,\n",
       "       -0.82408234, -0.82229686, -0.82050325, -0.81870153, -0.81689171,\n",
       "       -0.81507381, -0.81324786, -0.81141386, -0.80957183, -0.8077218 ,\n",
       "       -0.80586378, -0.80399779, -0.80212385, -0.80024198, -0.7983522 ,\n",
       "       -0.79645452, -0.79454896, -0.79263554, -0.79071429, -0.78878522,\n",
       "       -0.78684834, -0.78490369, -0.78295127, -0.78099111, -0.77902323,\n",
       "       -0.77704764, -0.77506437, -0.77307343, -0.77107485, -0.76906864,\n",
       "       -0.76705483, -0.76503343, -0.76300446, -0.76096795, -0.75892392,\n",
       "       -0.75687238, -0.75481335, -0.75274686, -0.75067292, -0.74859157,\n",
       "       -0.7465028 , -0.74440666, -0.74230315, -0.74019231, -0.73807414,\n",
       "       -0.73594867, -0.73381593, -0.73167593, -0.72952869, -0.72737424,\n",
       "       -0.7252126 , -0.72304378, -0.72086781, -0.71868472, -0.71649451,\n",
       "       -0.71429723, -0.71209287, -0.70988148, -0.70766306, -0.70543765,\n",
       "       -0.70320526, -0.70096591, -0.69871964, -0.69646645, -0.69420638,\n",
       "       -0.69193944, -0.68966566, -0.68738506, -0.68509766, -0.68280348,\n",
       "       -0.68050255, -0.67819489, -0.67588053, -0.67355948, -0.67123177,\n",
       "       -0.66889742, -0.66655646, -0.66420891, -0.66185479, -0.65949412,\n",
       "       -0.65712693, -0.65475324, -0.65237307, -0.64998646, -0.64759342,\n",
       "       -0.64519397, -0.64278814, -0.64037595, -0.63795744, -0.63553261,\n",
       "       -0.6331015 , -0.63066412, -0.62822052, -0.62577069, -0.62331468,\n",
       "       -0.62085251, -0.61838419, -0.61590976, -0.61342924, -0.61094265,\n",
       "       -0.60845002, -0.60595138, -0.60344674, -0.60093613, -0.59841958,\n",
       "       -0.59589711, -0.59336875, -0.59083452, -0.58829445, -0.58574856,\n",
       "       -0.58319688, -0.58063943, -0.57807624, -0.57550733, -0.57293273,\n",
       "       -0.57035246, -0.56776655, -0.56517503, -0.56257792, -0.55997525,\n",
       "       -0.55736704, -0.55475331, -0.5521341 , -0.54950943, -0.54687933,\n",
       "       -0.54424381, -0.54160292, -0.53895667, -0.53630509, -0.5336482 ,\n",
       "       -0.53098604, -0.52831862, -0.52564599, -0.52296815, -0.52028514,\n",
       "       -0.51759699, -0.51490371, -0.51220535, -0.50950192, -0.50679345,\n",
       "       -0.50407997, -0.50136151, -0.49863808, -0.49590973, -0.49317647,\n",
       "       -0.49043833, -0.48769535, -0.48494754, -0.48219493, -0.47943756,\n",
       "       -0.47667544, -0.47390861, -0.4711371 , -0.46836092, -0.46558012,\n",
       "       -0.4627947 , -0.46000472, -0.45721018, -0.45441112, -0.45160757,\n",
       "       -0.44879955, -0.44598709, -0.44317023, -0.44034898, -0.43752337,\n",
       "       -0.43469344, -0.43185921, -0.42902071, -0.42617796, -0.423331  ,\n",
       "       -0.42047986, -0.41762456, -0.41476512, -0.41190159, -0.40903398,\n",
       "       -0.40616233, -0.40328665, -0.400407  , -0.39752338, -0.39463583,\n",
       "       -0.39174438, -0.38884905, -0.38594988, -0.38304689, -0.38014011,\n",
       "       -0.37722958, -0.37431531, -0.37139734, -0.3684757 , -0.36555041,\n",
       "       -0.36262151, -0.35968903, -0.35675298, -0.35381341, -0.35087034,\n",
       "       -0.3479238 , -0.34497382, -0.34202043, -0.33906365, -0.33610352,\n",
       "       -0.33314007, -0.33017332, -0.32720331, -0.32423006, -0.32125361,\n",
       "       -0.31827398, -0.3152912 , -0.3123053 , -0.30931632, -0.30632427,\n",
       "       -0.3033292 , -0.30033113, -0.29733008, -0.2943261 , -0.2913192 ,\n",
       "       -0.28830943, -0.2852968 , -0.28228135, -0.27926311, -0.27624211,\n",
       "       -0.27321838, -0.27019194, -0.26716284, -0.26413109, -0.26109673,\n",
       "       -0.25805978, -0.25502029, -0.25197827, -0.24893376, -0.24588679,\n",
       "       -0.24283739, -0.23978558, -0.23673141, -0.23367489, -0.23061606,\n",
       "       -0.22755495, -0.22449159, -0.22142601, -0.21835825, -0.21528832,\n",
       "       -0.21221626, -0.20914211, -0.20606588, -0.20298762, -0.19990735,\n",
       "       -0.1968251 , -0.19374091, -0.1906548 , -0.18756681, -0.18447696,\n",
       "       -0.18138529, -0.17829182, -0.17519659, -0.17209962, -0.16900096,\n",
       "       -0.16590062, -0.16279865, -0.15969506, -0.15658989, -0.15348318,\n",
       "       -0.15037495, -0.14726523, -0.14415405, -0.14104145, -0.13792745,\n",
       "       -0.13481209, -0.1316954 , -0.1285774 , -0.12545813, -0.12233763,\n",
       "       -0.11921591, -0.11609301, -0.11296896, -0.1098438 , -0.10671755,\n",
       "       -0.10359025, -0.10046192, -0.0973326 , -0.09420231, -0.0910711 ,\n",
       "       -0.08793898, -0.08480599, -0.08167217, -0.07853754, -0.07540213,\n",
       "       -0.07226597, -0.0691291 , -0.06599155, -0.06285334, -0.05971451,\n",
       "       -0.0565751 , -0.05343512, -0.05029461, -0.04715361, -0.04401214,\n",
       "       -0.04087023, -0.03772792, -0.03458524, -0.03144222, -0.02829888,\n",
       "       -0.02515527, -0.0220114 , -0.01886732, -0.01572305, -0.01257863,\n",
       "       -0.00943408, -0.00628944, -0.00314473,  0.        ,  0.        ])"
      ]
     },
     "execution_count": 49,
     "metadata": {},
     "output_type": "execute_result"
    }
   ],
   "source": [
    "finding_x(alpha, beta, res_v, matrix)"
   ]
  },
  {
   "cell_type": "code",
   "execution_count": 50,
   "metadata": {},
   "outputs": [
    {
     "data": {
      "text/plain": [
       "<matplotlib.collections.PathCollection at 0x7fd0055f2650>"
      ]
     },
     "execution_count": 50,
     "metadata": {},
     "output_type": "execute_result"
    },
    {
     "data": {
      "image/png": "[encoded data removed]",
      "text/plain": [
       "<Figure size 640x480 with 1 Axes>"
      ]
     },
     "metadata": {},
     "output_type": "display_data"
    }
   ],
   "source": [
    "import matplotlib.pyplot as plt\n",
    "plt.scatter(grid, finding_x(alpha, beta, res_v, matrix))"
   ]
  },
  {
   "cell_type": "code",
   "execution_count": 67,
   "metadata": {},
   "outputs": [
    {
     "data": {
      "text/plain": [
       "(1.0, -0.1)"
      ]
     },
     "execution_count": 67,
     "metadata": {},
     "output_type": "execute_result"
    }
   ],
   "source": [
    "\n",
    "tridiagonal_matrix_algoritm(matrix, res_v)[0][0], tridiagonal_matrix_algoritm(matrix, res_v)[1][0]"
   ]
  },
  {
   "cell_type": "code",
   "execution_count": 54,
   "metadata": {},
   "outputs": [
    {
     "data": {
      "text/plain": [
       "array([[-1.,  1.,  0., ...,  0.,  0.,  0.],\n",
       "       [ 1., -2.,  1., ...,  0.,  0.,  0.],\n",
       "       [ 0.,  1., -2., ...,  0.,  0.,  0.],\n",
       "       ...,\n",
       "       [ 0.,  0.,  0., ..., -2.,  1.,  0.],\n",
       "       [ 0.,  0.,  0., ...,  1., -2.,  1.],\n",
       "       [ 0.,  0.,  0., ...,  0.,  1., -2.]])"
      ]
     },
     "execution_count": 54,
     "metadata": {},
     "output_type": "execute_result"
    }
   ],
   "source": [
    "matrix"
   ]
  },
  {
   "cell_type": "code",
   "execution_count": 32,
   "metadata": {},
   "outputs": [
    {
     "data": {
      "text/plain": [
       "array([0.1       , 0.00099833, 0.00198669, 0.0029552 , 0.00389418,\n",
       "       0.00479426, 0.00564642, 0.00644218, 0.00717356, 0.00783327,\n",
       "       0.00841471, 0.00891207, 0.00932039, 0.00963558, 0.0098545 ,\n",
       "       0.00997495, 0.00999574, 0.00991665, 0.00973848, 0.009463  ,\n",
       "       0.00909297, 0.00863209, 0.00808496, 0.00745705, 0.00675463,\n",
       "       0.00598472, 0.00515501, 0.0042738 , 0.00334988, 0.00239249,\n",
       "       0.0014112 , 0.1       ])"
      ]
     },
     "execution_count": 32,
     "metadata": {},
     "output_type": "execute_result"
    }
   ],
   "source": [
    "answer = np.zeros(len(grid))\n",
    "for i in range(len(grid)):\n",
    "    if i == 0: \n",
    "        answer[i] = h\n",
    "    elif i == len(grid) - 1:\n",
    "        answer[i] = h\n",
    "    else:\n",
    "        answer[i] = np.sin(grid[i]) * np.power(h, 2)\n",
    "answer"
   ]
  },
  {
   "cell_type": "code",
   "execution_count": null,
   "metadata": {},
   "outputs": [],
   "source": [
    "def tridiagonal_matrix(matrix):\n",
    "    y0 = 1\n",
    "    yn = 1\n",
    "    for i in range(len(grid) - 1): \n",
    "        if i == 0:\n",
    "            y1 = matrix[i][i] + h\n",
    "        else: \n",
    "            \n",
    "            "
   ]
  }
 ],
 "metadata": {
  "kernelspec": {
   "display_name": "Python 3",
   "language": "python",
   "name": "python3"
  },
  "language_info": {
   "codemirror_mode": {
    "name": "ipython",
    "version": 3
   },
   "file_extension": ".py",
   "mimetype": "text/x-python",
   "name": "python",
   "nbconvert_exporter": "python",
   "pygments_lexer": "ipython3",
   "version": "3.10.12"
  }
 },
 "nbformat": 4,
 "nbformat_minor": 2
}
