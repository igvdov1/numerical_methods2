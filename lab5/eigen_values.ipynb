{
 "cells": [
  {
   "cell_type": "code",
   "execution_count": 182,
   "metadata": {},
   "outputs": [],
   "source": [
    "import numpy as np"
   ]
  },
  {
   "cell_type": "code",
   "execution_count": 211,
   "metadata": {},
   "outputs": [],
   "source": [
    "def create_matrix(grid):  \n",
    "    matrix = []\n",
    "    C = np.zeros(len(grid)-1)\n",
    "    A = np.zeros(len(grid)-1)\n",
    "    B = np.zeros(len(grid))\n",
    "    h = grid[1] - grid[0]\n",
    "    for i in range(len(grid)):\n",
    "     \n",
    "        if i == 0:\n",
    "            B[i] = 1  \n",
    "        elif i == len(grid)-1:\n",
    "            \n",
    "            B[i] = 1\n",
    "        else:\n",
    "            A[i-1] =  -0.5 / h**2\n",
    "            B[i] = -1 - 0.5 * (grid[i] ) ** 2\n",
    "            C[i-1] = -0.5/h**2\n",
    "\n",
    "\n",
    "    return A,B,C"
   ]
  },
  {
   "cell_type": "code",
   "execution_count": 212,
   "metadata": {},
   "outputs": [],
   "source": [
    "# def create_matrix(grid):\n",
    "#     n = len(grid)\n",
    "#     h = grid[1] - grid[0]\n",
    "#     # diagonals = [np.ones(n-1)*0.5, (-1 - 0.5*((grid)**2))*np.ones(n), 0.5*np.ones(n-1)] ## задание элементов диагоналей матрицы\n",
    "#     diagonals = [np.ones(n-1) * -0.5 / h**2,-0.5/h**2 * -2 + grid**2 * 0.5, np.ones(n-1) * -0.5 / h**2]\n",
    "#     matrix = np.diag(diagonals[0], k=-1) + np.diag(diagonals[1], k=0) + np.diag(diagonals[2], k=1)\n",
    "#     matrix[0,0] = 1\n",
    "#     matrix[0,1] = 0\n",
    "#     matrix[n-1,n-1] = 1\n",
    "#     matrix[n-1,n-2] = 0\n",
    "#     return matrix"
   ]
  },
  {
   "cell_type": "code",
   "execution_count": 213,
   "metadata": {},
   "outputs": [],
   "source": [
    "grid = np.linspace(-10, 10, 10000)\n",
    "A,B,C = create_matrix(grid)"
   ]
  },
  {
   "cell_type": "code",
   "execution_count": 214,
   "metadata": {},
   "outputs": [],
   "source": [
    "# A[100], B[100], C[100]"
   ]
  },
  {
   "cell_type": "code",
   "execution_count": 215,
   "metadata": {},
   "outputs": [],
   "source": [
    "\n",
    "# matrix  = np.linalg.inv(create_matrix(grid))\n"
   ]
  },
  {
   "cell_type": "code",
   "execution_count": 216,
   "metadata": {},
   "outputs": [],
   "source": [
    "def tridiagonal_matrix_algoritm(A, B, C, F):\n",
    "    alpha = np.zeros(len(A)+1)\n",
    "    beta = np.zeros(len(alpha))\n",
    "    \n",
    "    alpha[1] = -C[0]/B[0]\n",
    "    beta[1] = F[0]/B[0]\n",
    "    for i in range(2, len(alpha)):\n",
    "        alpha[i] = -C[i-1]/(A[i-1] * alpha[i-1] + B[i-1])\n",
    "        beta[i] = (F[i - 1] - A[i - 1] * beta[i - 1])/(A[i - 1] * alpha[i - 1] + B[i - 1])\n",
    "    return alpha, beta\n",
    "\n",
    "def finding_x(alpha, beta, F, A,B,C):\n",
    "    x = np.zeros_like(alpha)\n",
    "\n",
    "    x[-1] = (F[-1] - A[-1] * beta[-1])/(B[-1] + A[-1] * alpha[-1])\n",
    "    for i in range(len(alpha)-2, -1, -1):\n",
    "        x[i] = alpha[i+1] * x[i+1] + beta[i+1]\n",
    "    return x\n"
   ]
  },
  {
   "cell_type": "code",
   "execution_count": 217,
   "metadata": {},
   "outputs": [],
   "source": [
    "import matplotlib.pyplot as plt\n",
    "def find_eigen_vector(A, B,C, grid):\n",
    "    u0 = np.ones(len(grid))\n",
    "    u0[0] = 0\n",
    "    u0[-1] = 0\n",
    "    for i in range(20):\n",
    "        alpha, beta = tridiagonal_matrix_algoritm(A, B,C, u0)\n",
    "        unnormed_u1 = finding_x(alpha, beta, u0, A, B, C)\n",
    "        u1 = unnormed_u1\n",
    "        # print(u1[len(matrix)//2]/u0[len(matrix)//2] - u1[len(matrix)//2+1]/u0[len(matrix)//2+1] )\n",
    "        # plt.plot(grid, np.abs(u1), color = 'orange')\n",
    "        # plt.plot(grid, np.abs(u0))\n",
    "        # print(i)\n",
    "        # plt.show()\n",
    "        # plt.close()\n",
    "\n",
    "        # if np.abs(np.abs(u1[10]/u0[10]) - np.abs(u1[100]/u0[100])) < 1e-10:\n",
    "        #     print('gg')\n",
    "\n",
    "        #     return u1, u1[len(matrix)//2]/u0[len(matrix)//2]\n",
    "        print(u1[len(grid)//2]/u0[len(grid)//2])\n",
    "        # print(u1)\n",
    "        u0 = u1\n",
    "    return u1, u1[len(grid)//2]/u0[len(grid)//2]\n"
   ]
  },
  {
   "cell_type": "code",
   "execution_count": 218,
   "metadata": {},
   "outputs": [
    {
     "name": "stdout",
     "output_type": "stream",
     "text": [
      "0.024182279343668924\n",
      "0.0071298491060625465\n",
      "0.19258618305021258\n",
      "0.027306404613132593\n",
      "0.06215618103593601\n",
      "0.040579637769967945\n",
      "0.04930918577214757\n",
      "0.04496604518326589\n",
      "0.04688608414882781\n",
      "0.04600513932064381\n",
      "0.04639640907441907\n",
      "0.046222213250594966\n",
      "0.046298907266000375\n",
      "0.04626525249466687\n",
      "0.04627994113362698\n",
      "0.0462735520073321\n",
      "0.04627632164504304\n",
      "0.04627512425167394\n",
      "0.0462756406715436\n",
      "0.04627541840135973\n"
     ]
    }
   ],
   "source": [
    "eigen_vector, eigen_value = find_eigen_vector(A, B, C, grid)"
   ]
  },
  {
   "cell_type": "code",
   "execution_count": 219,
   "metadata": {},
   "outputs": [
    {
     "data": {
      "text/plain": [
       "[<matplotlib.lines.Line2D at 0x7f59d715ece0>]"
      ]
     },
     "execution_count": 219,
     "metadata": {},
     "output_type": "execute_result"
    },
    {
     "data": {
      "image/png": "[encoded data removed]",
      "text/plain": [
       "<Figure size 640x480 with 1 Axes>"
      ]
     },
     "metadata": {},
     "output_type": "display_data"
    }
   ],
   "source": [
    "import matplotlib.pyplot as plt\n",
    "\n",
    "plt.plot(grid, eigen_vector)"
   ]
  },
  {
   "cell_type": "code",
   "execution_count": 220,
   "metadata": {},
   "outputs": [
    {
     "data": {
      "text/plain": [
       "1.0"
      ]
     },
     "execution_count": 220,
     "metadata": {},
     "output_type": "execute_result"
    }
   ],
   "source": [
    "eigen_value"
   ]
  },
  {
   "cell_type": "markdown",
   "metadata": {},
   "source": [
    "Найдем собственные значения"
   ]
  },
  {
   "cell_type": "code",
   "execution_count": 66,
   "metadata": {},
   "outputs": [
    {
     "data": {
      "text/plain": [
       "1.0"
      ]
     },
     "execution_count": 66,
     "metadata": {},
     "output_type": "execute_result"
    }
   ],
   "source": [
    "eig_val1, eig_vec1 = np.linalg.eig(matrix)\n",
    "eig_val1.max()"
   ]
  },
  {
   "cell_type": "code",
   "execution_count": 67,
   "metadata": {},
   "outputs": [
    {
     "data": {
      "text/plain": [
       "array([[ 1.        ,  0.        ,  0.        , ...,  0.        ,\n",
       "         0.        ,  0.        ],\n",
       "       [-0.3752904 , -0.3752904 ,  0.14085273, ..., -0.        ,\n",
       "        -0.        , -0.        ],\n",
       "       [ 0.14085273,  0.14085273, -0.428181  , ..., -0.        ,\n",
       "        -0.        , -0.        ],\n",
       "       ...,\n",
       "       [-0.        , -0.        , -0.        , ..., -0.428181  ,\n",
       "         0.14085273,  0.14085273],\n",
       "       [-0.        , -0.        , -0.        , ...,  0.14085273,\n",
       "        -0.3752904 , -0.3752904 ],\n",
       "       [ 0.        ,  0.        ,  0.        , ...,  0.        ,\n",
       "         0.        ,  1.        ]])"
      ]
     },
     "execution_count": 67,
     "metadata": {},
     "output_type": "execute_result"
    }
   ],
   "source": [
    "matrix"
   ]
  },
  {
   "cell_type": "code",
   "execution_count": 68,
   "metadata": {},
   "outputs": [
    {
     "data": {
      "text/plain": [
       "[<matplotlib.lines.Line2D at 0x7f59d8ae7f10>]"
      ]
     },
     "execution_count": 68,
     "metadata": {},
     "output_type": "execute_result"
    },
    {
     "data": {
      "image/png": "[encoded data removed]",
      "text/plain": [
       "<Figure size 640x480 with 1 Axes>"
      ]
     },
     "metadata": {},
     "output_type": "display_data"
    }
   ],
   "source": [
    "# plt.plot(grid, eigen_vector)\n",
    "plt.plot(grid, eig_vec1[998], color = 'red')"
   ]
  },
  {
   "cell_type": "code",
   "execution_count": null,
   "metadata": {},
   "outputs": [],
   "source": []
  }
 ],
 "metadata": {
  "kernelspec": {
   "display_name": "Python 3",
   "language": "python",
   "name": "python3"
  },
  "language_info": {
   "codemirror_mode": {
    "name": "ipython",
    "version": 3
   },
   "file_extension": ".py",
   "mimetype": "text/x-python",
   "name": "python",
   "nbconvert_exporter": "python",
   "pygments_lexer": "ipython3",
   "version": "3.10.12"
  }
 },
 "nbformat": 4,
 "nbformat_minor": 2
}
